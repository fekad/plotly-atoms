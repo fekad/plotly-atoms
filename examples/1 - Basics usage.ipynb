{
 "cells": [
  {
   "cell_type": "markdown",
   "metadata": {},
   "source": [
    "# Basic usage"
   ]
  },
  {
   "cell_type": "code",
   "execution_count": null,
   "metadata": {},
   "outputs": [],
   "source": [
    "from pymatgen.core import Lattice, Structure\n",
    "from plotly_atoms import Figure"
   ]
  },
  {
   "cell_type": "code",
   "execution_count": null,
   "metadata": {},
   "outputs": [],
   "source": [
    "coords = [[0, 0, 0], [.75, .5, .75]]\n",
    "lattice = Lattice.from_parameters(\n",
    "    a=3.84, b=3.84, c=3.84, \n",
    "    alpha=120, beta=90, gamma=60\n",
    ")\n",
    "struct = Structure(lattice, [\"Si\", \"Si\"], coords)"
   ]
  },
  {
   "cell_type": "code",
   "execution_count": null,
   "metadata": {},
   "outputs": [],
   "source": [
    "fig = Figure()\n",
    "# fig.add_structure(struct, supercell=[10, 10, 10])\n",
    "fig.add_structure(struct, supercell=[2, 2, 2])\n",
    "fig.add_unitcell(struct)\n",
    "\n",
    "fig.show()"
   ]
  },
  {
   "cell_type": "code",
   "execution_count": null,
   "metadata": {},
   "outputs": [],
   "source": []
  },
  {
   "cell_type": "code",
   "execution_count": null,
   "metadata": {},
   "outputs": [],
   "source": []
  }
 ],
 "metadata": {
  "interpreter": {
   "hash": "451cee072b75647255325f7f8ffe9fc3e24430e959966271370a1aeda1d0a3e7"
  },
  "kernelspec": {
   "display_name": "Python 3.8.5 64-bit ('surfascope': conda)",
   "name": "python3"
  },
  "language_info": {
   "codemirror_mode": {
    "name": "ipython",
    "version": 3
   },
   "file_extension": ".py",
   "mimetype": "text/x-python",
   "name": "python",
   "nbconvert_exporter": "python",
   "pygments_lexer": "ipython3",
   "version": "3.8.5"
  },
  "orig_nbformat": 2
 },
 "nbformat": 4,
 "nbformat_minor": 2
}