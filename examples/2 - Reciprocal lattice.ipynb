{
 "metadata": {
  "language_info": {
   "codemirror_mode": {
    "name": "ipython",
    "version": 3
   },
   "file_extension": ".py",
   "mimetype": "text/x-python",
   "name": "python",
   "nbconvert_exporter": "python",
   "pygments_lexer": "ipython3",
   "version": "3.8.5-final"
  },
  "orig_nbformat": 2,
  "kernelspec": {
   "name": "python3",
   "display_name": "Python 3",
   "language": "python"
  }
 },
 "nbformat": 4,
 "nbformat_minor": 2,
 "cells": [
  {
   "source": [
    "# Reciprocal lattice and k-point sampling"
   ],
   "cell_type": "markdown",
   "metadata": {}
  },
  {
   "cell_type": "code",
   "execution_count": 1,
   "metadata": {},
   "outputs": [],
   "source": [
    "%load_ext autoreload\n",
    "%autoreload 2\n",
    "\n",
    "import numpy as np\n",
    "import plotly.graph_objects as go\n",
    "\n",
    "from pymatgen import Lattice, Structure\n",
    "from pymatgen_plotly import Figure\n"
   ]
  },
  {
   "cell_type": "code",
   "execution_count": 2,
   "metadata": {},
   "outputs": [],
   "source": [
    "def fcc_conv(element: str, a: float):\n",
    "    # lattice=Lattice.cubic(a)\n",
    "    return Structure(\n",
    "        lattice=Lattice([[a, 0, 0], [0, a, 0], [0, 0, a]]),\n",
    "        species=4 * [element],\n",
    "        coords=[[0, 0, 0], [0.5, 0.5, 0], [0.5, 0, 0.5], [0, 0.5, 0.5]],\n",
    "    )\n",
    "\n",
    "def fcc_prim(element: str, a: float):\n",
    "    # a_prim = a * np.sqrt(2) / 2\n",
    "    # lattice=Lattice.rhombohedral(a_prim, 60)\n",
    "    return Structure(\n",
    "        lattice=Lattice([[a/2, a/2, 0], [0, a/2, a/2], [a/2, 0, a/2]]),\n",
    "        species=[element],\n",
    "        coords=[[0, 0, 0]],\n",
    "    )\n",
    "\n",
    "def fcc_reduced(element: str, a: float):\n",
    "    return Structure(\n",
    "        lattice=Lattice([[a/2, -a/2, 0], [a/2, a/2, 0], [0, 0, a]]),\n",
    "        species=2 * [element],\n",
    "        coords=[[0, 0, 0], [.5, .5, .5]]\n",
    "    )\n",
    "\n",
    "def build_grid(n, shift=None):\n",
    "    r = np.linspace(0, 1, n, endpoint=False)\n",
    "    grid = np.array([[x,y,z] for x in r for y in r for z in r])\n",
    "\n",
    "    if shift:\n",
    "        offset = 1/n * np.array(shift)\n",
    "        return grid + offset\n",
    "\n",
    "    return grid\n",
    "\n"
   ]
  },
  {
   "cell_type": "code",
   "execution_count": 3,
   "metadata": {},
   "outputs": [],
   "source": [
    "struct_conv = fcc_conv('Al', 4.)\n",
    "struct_prim = fcc_prim('Al', 4.)\n",
    "struct_reduced = fcc_reduced('Al', 4.)"
   ]
  },
  {
   "cell_type": "code",
   "execution_count": null,
   "metadata": {},
   "outputs": [],
   "source": []
  },
  {
   "cell_type": "code",
   "execution_count": 3,
   "metadata": {},
   "outputs": [],
   "source": [
    "\n"
   ]
  },
  {
   "cell_type": "code",
   "execution_count": 30,
   "metadata": {},
   "outputs": [
    {
     "output_type": "execute_result",
     "data": {
      "text/plain": [
       "[[array([ 7.85398163e-01, -1.57079633e+00, -2.29160935e-16]),\n",
       "  array([-2.29160935e-16, -1.57079633e+00,  7.85398163e-01]),\n",
       "  array([-7.85398163e-01, -1.57079633e+00,  2.29160935e-16]),\n",
       "  array([ 2.29160935e-16, -1.57079633e+00, -7.85398163e-01])],\n",
       " [array([-1.57079633,  0.        ,  0.78539816]),\n",
       "  array([-1.57079633e+00, -7.85398163e-01,  2.29160935e-16]),\n",
       "  array([-7.85398163e-01, -1.57079633e+00,  2.29160935e-16]),\n",
       "  array([-2.29160935e-16, -1.57079633e+00,  7.85398163e-01]),\n",
       "  array([-2.29160935e-16, -7.85398163e-01,  1.57079633e+00]),\n",
       "  array([-7.85398163e-01,  2.29160935e-16,  1.57079633e+00])],\n",
       " [array([ 7.85398163e-01, -1.57079633e+00, -2.29160935e-16]),\n",
       "  array([ 1.57079633e+00, -7.85398163e-01, -2.29160935e-16]),\n",
       "  array([ 1.57079633,  0.        , -0.78539816]),\n",
       "  array([ 0.78539816,  0.        , -1.57079633]),\n",
       "  array([ 2.29160935e-16, -7.85398163e-01, -1.57079633e+00]),\n",
       "  array([ 2.29160935e-16, -1.57079633e+00, -7.85398163e-01])],\n",
       " [array([-1.57079633,  0.78539816,  0.        ]),\n",
       "  array([-7.85398163e-01,  1.57079633e+00,  2.29160935e-16]),\n",
       "  array([0.        , 1.57079633, 0.78539816]),\n",
       "  array([0.        , 0.78539816, 1.57079633]),\n",
       "  array([-7.85398163e-01,  2.29160935e-16,  1.57079633e+00]),\n",
       "  array([-1.57079633,  0.        ,  0.78539816])],\n",
       " [array([-1.57079633e+00, -7.85398163e-01,  2.29160935e-16]),\n",
       "  array([-1.57079633e+00,  2.29160935e-16, -7.85398163e-01]),\n",
       "  array([-1.57079633,  0.78539816,  0.        ]),\n",
       "  array([-1.57079633,  0.        ,  0.78539816])],\n",
       " [array([-1.57079633e+00,  2.29160935e-16, -7.85398163e-01]),\n",
       "  array([-7.85398163e-01,  2.29160935e-16, -1.57079633e+00]),\n",
       "  array([ 0.        ,  0.78539816, -1.57079633]),\n",
       "  array([ 0.        ,  1.57079633, -0.78539816]),\n",
       "  array([-7.85398163e-01,  1.57079633e+00,  2.29160935e-16]),\n",
       "  array([-1.57079633,  0.78539816,  0.        ])],\n",
       " [array([-1.57079633e+00,  2.29160935e-16, -7.85398163e-01]),\n",
       "  array([-7.85398163e-01,  2.29160935e-16, -1.57079633e+00]),\n",
       "  array([ 2.29160935e-16, -7.85398163e-01, -1.57079633e+00]),\n",
       "  array([ 2.29160935e-16, -1.57079633e+00, -7.85398163e-01]),\n",
       "  array([-7.85398163e-01, -1.57079633e+00,  2.29160935e-16]),\n",
       "  array([-1.57079633e+00, -7.85398163e-01,  2.29160935e-16])],\n",
       " [array([ 1.57079633e+00, -7.85398163e-01, -2.29160935e-16]),\n",
       "  array([ 7.85398163e-01, -1.57079633e+00, -2.29160935e-16]),\n",
       "  array([-2.29160935e-16, -1.57079633e+00,  7.85398163e-01]),\n",
       "  array([-2.29160935e-16, -7.85398163e-01,  1.57079633e+00]),\n",
       "  array([0.78539816, 0.        , 1.57079633]),\n",
       "  array([1.57079633, 0.        , 0.78539816])],\n",
       " [array([ 1.57079633,  0.        , -0.78539816]),\n",
       "  array([ 0.78539816,  0.        , -1.57079633]),\n",
       "  array([ 0.        ,  0.78539816, -1.57079633]),\n",
       "  array([ 0.        ,  1.57079633, -0.78539816]),\n",
       "  array([ 7.85398163e-01,  1.57079633e+00, -2.22044605e-16]),\n",
       "  array([ 1.57079633e+00,  7.85398163e-01, -2.22044605e-16])],\n",
       " [array([-7.85398163e-01,  1.57079633e+00,  2.29160935e-16]),\n",
       "  array([ 0.        ,  1.57079633, -0.78539816]),\n",
       "  array([ 7.85398163e-01,  1.57079633e+00, -2.22044605e-16]),\n",
       "  array([0.        , 1.57079633, 0.78539816])],\n",
       " [array([-7.85398163e-01,  2.29160935e-16, -1.57079633e+00]),\n",
       "  array([ 2.29160935e-16, -7.85398163e-01, -1.57079633e+00]),\n",
       "  array([ 0.78539816,  0.        , -1.57079633]),\n",
       "  array([ 0.        ,  0.78539816, -1.57079633])],\n",
       " [array([ 1.57079633e+00, -7.85398163e-01, -2.29160935e-16]),\n",
       "  array([1.57079633, 0.        , 0.78539816]),\n",
       "  array([ 1.57079633e+00,  7.85398163e-01, -2.22044605e-16]),\n",
       "  array([ 1.57079633,  0.        , -0.78539816])],\n",
       " [array([-2.29160935e-16, -7.85398163e-01,  1.57079633e+00]),\n",
       "  array([0.78539816, 0.        , 1.57079633]),\n",
       "  array([0.        , 0.78539816, 1.57079633]),\n",
       "  array([-7.85398163e-01,  2.29160935e-16,  1.57079633e+00])],\n",
       " [array([ 1.57079633e+00,  7.85398163e-01, -2.22044605e-16]),\n",
       "  array([1.57079633, 0.        , 0.78539816]),\n",
       "  array([0.78539816, 0.        , 1.57079633]),\n",
       "  array([0.        , 0.78539816, 1.57079633]),\n",
       "  array([0.        , 1.57079633, 0.78539816]),\n",
       "  array([ 7.85398163e-01,  1.57079633e+00, -2.22044605e-16])]]"
      ]
     },
     "metadata": {},
     "execution_count": 30
    }
   ],
   "source": [
    "facets = struct_prim.lattice.get_brillouin_zone()\n",
    "facets"
   ]
  },
  {
   "cell_type": "code",
   "execution_count": 31,
   "metadata": {},
   "outputs": [
    {
     "output_type": "display_data",
     "data": {
      "application/vnd.plotly.v1+json": {
       "config": {
        "plotlyServerURL": "https://plot.ly"
       },
       "data": [
        {
         "line": {
          "color": "red",
          "width": 4
         },
         "mode": "lines+text",
         "text": [
          null,
          "a"
         ],
         "type": "scatter3d",
         "x": [
          0,
          1.5707963267948966
         ],
         "y": [
          0,
          1.5707963267948966
         ],
         "z": [
          0,
          -1.5707963267948966
         ]
        },
        {
         "line": {
          "color": "green",
          "width": 4
         },
         "mode": "lines+text",
         "text": [
          null,
          "b"
         ],
         "type": "scatter3d",
         "x": [
          0,
          -1.5707963267948966
         ],
         "y": [
          0,
          1.5707963267948966
         ],
         "z": [
          0,
          1.5707963267948966
         ]
        },
        {
         "line": {
          "color": "blue",
          "width": 4
         },
         "mode": "lines+text",
         "text": [
          null,
          "c"
         ],
         "type": "scatter3d",
         "x": [
          0,
          1.5707963267948966
         ],
         "y": [
          0,
          -1.5707963267948966
         ],
         "z": [
          0,
          1.5707963267948966
         ]
        },
        {
         "line": {
          "color": "black",
          "width": 1
         },
         "mode": "lines",
         "type": "scatter3d",
         "x": [
          1.5707963267948966,
          0
         ],
         "y": [
          1.5707963267948966,
          3.141592653589793
         ],
         "z": [
          -1.5707963267948966,
          0
         ]
        },
        {
         "line": {
          "color": "black",
          "width": 1
         },
         "mode": "lines",
         "type": "scatter3d",
         "x": [
          1.5707963267948966,
          3.141592653589793
         ],
         "y": [
          1.5707963267948966,
          0
         ],
         "z": [
          -1.5707963267948966,
          0
         ]
        },
        {
         "line": {
          "color": "black",
          "width": 1
         },
         "mode": "lines",
         "type": "scatter3d",
         "x": [
          -1.5707963267948966,
          0
         ],
         "y": [
          1.5707963267948966,
          3.141592653589793
         ],
         "z": [
          1.5707963267948966,
          0
         ]
        },
        {
         "line": {
          "color": "black",
          "width": 1
         },
         "mode": "lines",
         "type": "scatter3d",
         "x": [
          -1.5707963267948966,
          0
         ],
         "y": [
          1.5707963267948966,
          0
         ],
         "z": [
          1.5707963267948966,
          3.141592653589793
         ]
        },
        {
         "line": {
          "color": "black",
          "width": 1
         },
         "mode": "lines",
         "type": "scatter3d",
         "x": [
          1.5707963267948966,
          3.141592653589793
         ],
         "y": [
          -1.5707963267948966,
          0
         ],
         "z": [
          1.5707963267948966,
          0
         ]
        },
        {
         "line": {
          "color": "black",
          "width": 1
         },
         "mode": "lines",
         "type": "scatter3d",
         "x": [
          1.5707963267948966,
          0
         ],
         "y": [
          -1.5707963267948966,
          0
         ],
         "z": [
          1.5707963267948966,
          3.141592653589793
         ]
        },
        {
         "line": {
          "color": "black",
          "width": 1
         },
         "mode": "lines",
         "type": "scatter3d",
         "x": [
          0,
          1.5707963267948966
         ],
         "y": [
          3.141592653589793,
          1.5707963267948966
         ],
         "z": [
          0,
          1.5707963267948966
         ]
        },
        {
         "line": {
          "color": "black",
          "width": 1
         },
         "mode": "lines",
         "type": "scatter3d",
         "x": [
          0,
          1.5707963267948966
         ],
         "y": [
          0,
          1.5707963267948966
         ],
         "z": [
          3.141592653589793,
          1.5707963267948966
         ]
        },
        {
         "line": {
          "color": "black",
          "width": 1
         },
         "mode": "lines",
         "type": "scatter3d",
         "x": [
          3.141592653589793,
          1.5707963267948966
         ],
         "y": [
          0,
          1.5707963267948966
         ],
         "z": [
          0,
          1.5707963267948966
         ]
        },
        {
         "color": "lightpink",
         "opacity": 0.5,
         "type": "mesh3d",
         "x": [
          0.7853981633974485,
          -2.291609350862664e-16,
          -0.7853981633974485,
          2.291609350862664e-16
         ],
         "y": [
          -1.5707963267948966,
          -1.5707963267948966,
          -1.5707963267948966,
          -1.5707963267948966
         ],
         "z": [
          -2.291609350862664e-16,
          0.7853981633974485,
          2.291609350862664e-16,
          -0.7853981633974485
         ]
        },
        {
         "color": "lightpink",
         "opacity": 0.5,
         "type": "mesh3d",
         "x": [
          -1.5707963267948968,
          -1.5707963267948966,
          -0.7853981633974485,
          -2.291609350862664e-16,
          -2.291609350862664e-16,
          -0.7853981633974485
         ],
         "y": [
          0,
          -0.7853981633974485,
          -1.5707963267948966,
          -1.5707963267948966,
          -0.7853981633974485,
          2.291609350862664e-16
         ],
         "z": [
          0.7853981633974481,
          2.291609350862664e-16,
          2.291609350862664e-16,
          0.7853981633974485,
          1.5707963267948966,
          1.5707963267948966
         ]
        },
        {
         "color": "lightpink",
         "opacity": 0.5,
         "type": "mesh3d",
         "x": [
          0.7853981633974485,
          1.5707963267948966,
          1.5707963267948968,
          0.7853981633974481,
          2.291609350862664e-16,
          2.291609350862664e-16
         ],
         "y": [
          -1.5707963267948966,
          -0.7853981633974485,
          0,
          0,
          -0.7853981633974485,
          -1.5707963267948966
         ],
         "z": [
          -2.291609350862664e-16,
          -2.291609350862664e-16,
          -0.7853981633974481,
          -1.5707963267948968,
          -1.5707963267948966,
          -0.7853981633974485
         ]
        },
        {
         "color": "lightpink",
         "opacity": 0.5,
         "type": "mesh3d",
         "x": [
          -1.5707963267948968,
          -0.7853981633974485,
          0,
          0,
          -0.7853981633974485,
          -1.5707963267948968
         ],
         "y": [
          0.7853981633974481,
          1.5707963267948966,
          1.5707963267948968,
          0.7853981633974481,
          2.291609350862664e-16,
          0
         ],
         "z": [
          0,
          2.291609350862664e-16,
          0.7853981633974481,
          1.5707963267948968,
          1.5707963267948966,
          0.7853981633974481
         ]
        },
        {
         "color": "lightpink",
         "opacity": 0.5,
         "type": "mesh3d",
         "x": [
          -1.5707963267948966,
          -1.5707963267948966,
          -1.5707963267948968,
          -1.5707963267948968
         ],
         "y": [
          -0.7853981633974485,
          2.291609350862664e-16,
          0.7853981633974481,
          0
         ],
         "z": [
          2.291609350862664e-16,
          -0.7853981633974485,
          0,
          0.7853981633974481
         ]
        },
        {
         "color": "lightpink",
         "opacity": 0.5,
         "type": "mesh3d",
         "x": [
          -1.5707963267948966,
          -0.7853981633974485,
          0,
          0,
          -0.7853981633974485,
          -1.5707963267948968
         ],
         "y": [
          2.291609350862664e-16,
          2.291609350862664e-16,
          0.7853981633974481,
          1.5707963267948968,
          1.5707963267948966,
          0.7853981633974481
         ],
         "z": [
          -0.7853981633974485,
          -1.5707963267948966,
          -1.5707963267948968,
          -0.7853981633974481,
          2.291609350862664e-16,
          0
         ]
        },
        {
         "color": "lightpink",
         "opacity": 0.5,
         "type": "mesh3d",
         "x": [
          -1.5707963267948966,
          -0.7853981633974485,
          2.291609350862664e-16,
          2.291609350862664e-16,
          -0.7853981633974485,
          -1.5707963267948966
         ],
         "y": [
          2.291609350862664e-16,
          2.291609350862664e-16,
          -0.7853981633974485,
          -1.5707963267948966,
          -1.5707963267948966,
          -0.7853981633974485
         ],
         "z": [
          -0.7853981633974485,
          -1.5707963267948966,
          -1.5707963267948966,
          -0.7853981633974485,
          2.291609350862664e-16,
          2.291609350862664e-16
         ]
        },
        {
         "color": "lightpink",
         "opacity": 0.5,
         "type": "mesh3d",
         "x": [
          1.5707963267948966,
          0.7853981633974485,
          -2.291609350862664e-16,
          -2.291609350862664e-16,
          0.7853981633974481,
          1.5707963267948968
         ],
         "y": [
          -0.7853981633974485,
          -1.5707963267948966,
          -1.5707963267948966,
          -0.7853981633974485,
          0,
          0
         ],
         "z": [
          -2.291609350862664e-16,
          -2.291609350862664e-16,
          0.7853981633974485,
          1.5707963267948966,
          1.5707963267948968,
          0.7853981633974481
         ]
        },
        {
         "color": "lightpink",
         "opacity": 0.5,
         "type": "mesh3d",
         "x": [
          1.5707963267948968,
          0.7853981633974481,
          0,
          0,
          0.7853981633974485,
          1.5707963267948966
         ],
         "y": [
          0,
          0,
          0.7853981633974481,
          1.5707963267948968,
          1.5707963267948966,
          0.7853981633974485
         ],
         "z": [
          -0.7853981633974481,
          -1.5707963267948968,
          -1.5707963267948968,
          -0.7853981633974481,
          -2.220446049250313e-16,
          -2.220446049250313e-16
         ]
        },
        {
         "color": "lightpink",
         "opacity": 0.5,
         "type": "mesh3d",
         "x": [
          -0.7853981633974485,
          0,
          0.7853981633974485,
          0
         ],
         "y": [
          1.5707963267948966,
          1.5707963267948968,
          1.5707963267948966,
          1.5707963267948968
         ],
         "z": [
          2.291609350862664e-16,
          -0.7853981633974481,
          -2.220446049250313e-16,
          0.7853981633974481
         ]
        },
        {
         "color": "lightpink",
         "opacity": 0.5,
         "type": "mesh3d",
         "x": [
          -0.7853981633974485,
          2.291609350862664e-16,
          0.7853981633974481,
          0
         ],
         "y": [
          2.291609350862664e-16,
          -0.7853981633974485,
          0,
          0.7853981633974481
         ],
         "z": [
          -1.5707963267948966,
          -1.5707963267948966,
          -1.5707963267948968,
          -1.5707963267948968
         ]
        },
        {
         "color": "lightpink",
         "opacity": 0.5,
         "type": "mesh3d",
         "x": [
          1.5707963267948966,
          1.5707963267948968,
          1.5707963267948966,
          1.5707963267948968
         ],
         "y": [
          -0.7853981633974485,
          0,
          0.7853981633974485,
          0
         ],
         "z": [
          -2.291609350862664e-16,
          0.7853981633974481,
          -2.220446049250313e-16,
          -0.7853981633974481
         ]
        },
        {
         "color": "lightpink",
         "opacity": 0.5,
         "type": "mesh3d",
         "x": [
          -2.291609350862664e-16,
          0.7853981633974481,
          0,
          -0.7853981633974485
         ],
         "y": [
          -0.7853981633974485,
          0,
          0.7853981633974481,
          2.291609350862664e-16
         ],
         "z": [
          1.5707963267948966,
          1.5707963267948968,
          1.5707963267948968,
          1.5707963267948966
         ]
        },
        {
         "color": "lightpink",
         "opacity": 0.5,
         "type": "mesh3d",
         "x": [
          1.5707963267948966,
          1.5707963267948968,
          0.7853981633974481,
          0,
          0,
          0.7853981633974485
         ],
         "y": [
          0.7853981633974485,
          0,
          0,
          0.7853981633974481,
          1.5707963267948968,
          1.5707963267948966
         ],
         "z": [
          -2.220446049250313e-16,
          0.7853981633974481,
          1.5707963267948968,
          1.5707963267948968,
          0.7853981633974481,
          -2.220446049250313e-16
         ]
        }
       ],
       "layout": {
        "dragmode": "orbit",
        "margin": {
         "b": 0,
         "l": 0,
         "r": 0,
         "t": 0
        },
        "scene": {
         "aspectmode": "data",
         "camera": {
          "projection": {
           "type": "orthographic"
          }
         },
         "xaxis": {
          "showbackground": false,
          "showgrid": false,
          "showline": false,
          "showspikes": false,
          "showticklabels": false,
          "ticks": "",
          "title": {
           "text": ""
          },
          "zeroline": false
         },
         "yaxis": {
          "showbackground": false,
          "showgrid": false,
          "showline": false,
          "showspikes": false,
          "showticklabels": false,
          "ticks": "",
          "title": {
           "text": ""
          },
          "zeroline": false
         },
         "zaxis": {
          "showbackground": false,
          "showgrid": false,
          "showline": false,
          "showspikes": false,
          "showticklabels": false,
          "ticks": "",
          "title": {
           "text": ""
          },
          "zeroline": false
         }
        },
        "showlegend": false,
        "template": {
         "data": {
          "bar": [
           {
            "error_x": {
             "color": "#2a3f5f"
            },
            "error_y": {
             "color": "#2a3f5f"
            },
            "marker": {
             "line": {
              "color": "white",
              "width": 0.5
             }
            },
            "type": "bar"
           }
          ],
          "barpolar": [
           {
            "marker": {
             "line": {
              "color": "white",
              "width": 0.5
             }
            },
            "type": "barpolar"
           }
          ],
          "carpet": [
           {
            "aaxis": {
             "endlinecolor": "#2a3f5f",
             "gridcolor": "#C8D4E3",
             "linecolor": "#C8D4E3",
             "minorgridcolor": "#C8D4E3",
             "startlinecolor": "#2a3f5f"
            },
            "baxis": {
             "endlinecolor": "#2a3f5f",
             "gridcolor": "#C8D4E3",
             "linecolor": "#C8D4E3",
             "minorgridcolor": "#C8D4E3",
             "startlinecolor": "#2a3f5f"
            },
            "type": "carpet"
           }
          ],
          "choropleth": [
           {
            "colorbar": {
             "outlinewidth": 0,
             "ticks": ""
            },
            "type": "choropleth"
           }
          ],
          "contour": [
           {
            "colorbar": {
             "outlinewidth": 0,
             "ticks": ""
            },
            "colorscale": [
             [
              0,
              "#0d0887"
             ],
             [
              0.1111111111111111,
              "#46039f"
             ],
             [
              0.2222222222222222,
              "#7201a8"
             ],
             [
              0.3333333333333333,
              "#9c179e"
             ],
             [
              0.4444444444444444,
              "#bd3786"
             ],
             [
              0.5555555555555556,
              "#d8576b"
             ],
             [
              0.6666666666666666,
              "#ed7953"
             ],
             [
              0.7777777777777778,
              "#fb9f3a"
             ],
             [
              0.8888888888888888,
              "#fdca26"
             ],
             [
              1,
              "#f0f921"
             ]
            ],
            "type": "contour"
           }
          ],
          "contourcarpet": [
           {
            "colorbar": {
             "outlinewidth": 0,
             "ticks": ""
            },
            "type": "contourcarpet"
           }
          ],
          "heatmap": [
           {
            "colorbar": {
             "outlinewidth": 0,
             "ticks": ""
            },
            "colorscale": [
             [
              0,
              "#0d0887"
             ],
             [
              0.1111111111111111,
              "#46039f"
             ],
             [
              0.2222222222222222,
              "#7201a8"
             ],
             [
              0.3333333333333333,
              "#9c179e"
             ],
             [
              0.4444444444444444,
              "#bd3786"
             ],
             [
              0.5555555555555556,
              "#d8576b"
             ],
             [
              0.6666666666666666,
              "#ed7953"
             ],
             [
              0.7777777777777778,
              "#fb9f3a"
             ],
             [
              0.8888888888888888,
              "#fdca26"
             ],
             [
              1,
              "#f0f921"
             ]
            ],
            "type": "heatmap"
           }
          ],
          "heatmapgl": [
           {
            "colorbar": {
             "outlinewidth": 0,
             "ticks": ""
            },
            "colorscale": [
             [
              0,
              "#0d0887"
             ],
             [
              0.1111111111111111,
              "#46039f"
             ],
             [
              0.2222222222222222,
              "#7201a8"
             ],
             [
              0.3333333333333333,
              "#9c179e"
             ],
             [
              0.4444444444444444,
              "#bd3786"
             ],
             [
              0.5555555555555556,
              "#d8576b"
             ],
             [
              0.6666666666666666,
              "#ed7953"
             ],
             [
              0.7777777777777778,
              "#fb9f3a"
             ],
             [
              0.8888888888888888,
              "#fdca26"
             ],
             [
              1,
              "#f0f921"
             ]
            ],
            "type": "heatmapgl"
           }
          ],
          "histogram": [
           {
            "marker": {
             "colorbar": {
              "outlinewidth": 0,
              "ticks": ""
             }
            },
            "type": "histogram"
           }
          ],
          "histogram2d": [
           {
            "colorbar": {
             "outlinewidth": 0,
             "ticks": ""
            },
            "colorscale": [
             [
              0,
              "#0d0887"
             ],
             [
              0.1111111111111111,
              "#46039f"
             ],
             [
              0.2222222222222222,
              "#7201a8"
             ],
             [
              0.3333333333333333,
              "#9c179e"
             ],
             [
              0.4444444444444444,
              "#bd3786"
             ],
             [
              0.5555555555555556,
              "#d8576b"
             ],
             [
              0.6666666666666666,
              "#ed7953"
             ],
             [
              0.7777777777777778,
              "#fb9f3a"
             ],
             [
              0.8888888888888888,
              "#fdca26"
             ],
             [
              1,
              "#f0f921"
             ]
            ],
            "type": "histogram2d"
           }
          ],
          "histogram2dcontour": [
           {
            "colorbar": {
             "outlinewidth": 0,
             "ticks": ""
            },
            "colorscale": [
             [
              0,
              "#0d0887"
             ],
             [
              0.1111111111111111,
              "#46039f"
             ],
             [
              0.2222222222222222,
              "#7201a8"
             ],
             [
              0.3333333333333333,
              "#9c179e"
             ],
             [
              0.4444444444444444,
              "#bd3786"
             ],
             [
              0.5555555555555556,
              "#d8576b"
             ],
             [
              0.6666666666666666,
              "#ed7953"
             ],
             [
              0.7777777777777778,
              "#fb9f3a"
             ],
             [
              0.8888888888888888,
              "#fdca26"
             ],
             [
              1,
              "#f0f921"
             ]
            ],
            "type": "histogram2dcontour"
           }
          ],
          "mesh3d": [
           {
            "colorbar": {
             "outlinewidth": 0,
             "ticks": ""
            },
            "type": "mesh3d"
           }
          ],
          "parcoords": [
           {
            "line": {
             "colorbar": {
              "outlinewidth": 0,
              "ticks": ""
             }
            },
            "type": "parcoords"
           }
          ],
          "pie": [
           {
            "automargin": true,
            "type": "pie"
           }
          ],
          "scatter": [
           {
            "marker": {
             "colorbar": {
              "outlinewidth": 0,
              "ticks": ""
             }
            },
            "type": "scatter"
           }
          ],
          "scatter3d": [
           {
            "line": {
             "colorbar": {
              "outlinewidth": 0,
              "ticks": ""
             }
            },
            "marker": {
             "colorbar": {
              "outlinewidth": 0,
              "ticks": ""
             }
            },
            "type": "scatter3d"
           }
          ],
          "scattercarpet": [
           {
            "marker": {
             "colorbar": {
              "outlinewidth": 0,
              "ticks": ""
             }
            },
            "type": "scattercarpet"
           }
          ],
          "scattergeo": [
           {
            "marker": {
             "colorbar": {
              "outlinewidth": 0,
              "ticks": ""
             }
            },
            "type": "scattergeo"
           }
          ],
          "scattergl": [
           {
            "marker": {
             "colorbar": {
              "outlinewidth": 0,
              "ticks": ""
             }
            },
            "type": "scattergl"
           }
          ],
          "scattermapbox": [
           {
            "marker": {
             "colorbar": {
              "outlinewidth": 0,
              "ticks": ""
             }
            },
            "type": "scattermapbox"
           }
          ],
          "scatterpolar": [
           {
            "marker": {
             "colorbar": {
              "outlinewidth": 0,
              "ticks": ""
             }
            },
            "type": "scatterpolar"
           }
          ],
          "scatterpolargl": [
           {
            "marker": {
             "colorbar": {
              "outlinewidth": 0,
              "ticks": ""
             }
            },
            "type": "scatterpolargl"
           }
          ],
          "scatterternary": [
           {
            "marker": {
             "colorbar": {
              "outlinewidth": 0,
              "ticks": ""
             }
            },
            "type": "scatterternary"
           }
          ],
          "surface": [
           {
            "colorbar": {
             "outlinewidth": 0,
             "ticks": ""
            },
            "colorscale": [
             [
              0,
              "#0d0887"
             ],
             [
              0.1111111111111111,
              "#46039f"
             ],
             [
              0.2222222222222222,
              "#7201a8"
             ],
             [
              0.3333333333333333,
              "#9c179e"
             ],
             [
              0.4444444444444444,
              "#bd3786"
             ],
             [
              0.5555555555555556,
              "#d8576b"
             ],
             [
              0.6666666666666666,
              "#ed7953"
             ],
             [
              0.7777777777777778,
              "#fb9f3a"
             ],
             [
              0.8888888888888888,
              "#fdca26"
             ],
             [
              1,
              "#f0f921"
             ]
            ],
            "type": "surface"
           }
          ],
          "table": [
           {
            "cells": {
             "fill": {
              "color": "#EBF0F8"
             },
             "line": {
              "color": "white"
             }
            },
            "header": {
             "fill": {
              "color": "#C8D4E3"
             },
             "line": {
              "color": "white"
             }
            },
            "type": "table"
           }
          ]
         },
         "layout": {
          "annotationdefaults": {
           "arrowcolor": "#2a3f5f",
           "arrowhead": 0,
           "arrowwidth": 1
          },
          "coloraxis": {
           "colorbar": {
            "outlinewidth": 0,
            "ticks": ""
           }
          },
          "colorscale": {
           "diverging": [
            [
             0,
             "#8e0152"
            ],
            [
             0.1,
             "#c51b7d"
            ],
            [
             0.2,
             "#de77ae"
            ],
            [
             0.3,
             "#f1b6da"
            ],
            [
             0.4,
             "#fde0ef"
            ],
            [
             0.5,
             "#f7f7f7"
            ],
            [
             0.6,
             "#e6f5d0"
            ],
            [
             0.7,
             "#b8e186"
            ],
            [
             0.8,
             "#7fbc41"
            ],
            [
             0.9,
             "#4d9221"
            ],
            [
             1,
             "#276419"
            ]
           ],
           "sequential": [
            [
             0,
             "#0d0887"
            ],
            [
             0.1111111111111111,
             "#46039f"
            ],
            [
             0.2222222222222222,
             "#7201a8"
            ],
            [
             0.3333333333333333,
             "#9c179e"
            ],
            [
             0.4444444444444444,
             "#bd3786"
            ],
            [
             0.5555555555555556,
             "#d8576b"
            ],
            [
             0.6666666666666666,
             "#ed7953"
            ],
            [
             0.7777777777777778,
             "#fb9f3a"
            ],
            [
             0.8888888888888888,
             "#fdca26"
            ],
            [
             1,
             "#f0f921"
            ]
           ],
           "sequentialminus": [
            [
             0,
             "#0d0887"
            ],
            [
             0.1111111111111111,
             "#46039f"
            ],
            [
             0.2222222222222222,
             "#7201a8"
            ],
            [
             0.3333333333333333,
             "#9c179e"
            ],
            [
             0.4444444444444444,
             "#bd3786"
            ],
            [
             0.5555555555555556,
             "#d8576b"
            ],
            [
             0.6666666666666666,
             "#ed7953"
            ],
            [
             0.7777777777777778,
             "#fb9f3a"
            ],
            [
             0.8888888888888888,
             "#fdca26"
            ],
            [
             1,
             "#f0f921"
            ]
           ]
          },
          "colorway": [
           "#636efa",
           "#EF553B",
           "#00cc96",
           "#ab63fa",
           "#FFA15A",
           "#19d3f3",
           "#FF6692",
           "#B6E880",
           "#FF97FF",
           "#FECB52"
          ],
          "font": {
           "color": "#2a3f5f"
          },
          "geo": {
           "bgcolor": "white",
           "lakecolor": "white",
           "landcolor": "white",
           "showlakes": true,
           "showland": true,
           "subunitcolor": "#C8D4E3"
          },
          "hoverlabel": {
           "align": "left"
          },
          "hovermode": "closest",
          "mapbox": {
           "style": "light"
          },
          "paper_bgcolor": "white",
          "plot_bgcolor": "white",
          "polar": {
           "angularaxis": {
            "gridcolor": "#EBF0F8",
            "linecolor": "#EBF0F8",
            "ticks": ""
           },
           "bgcolor": "white",
           "radialaxis": {
            "gridcolor": "#EBF0F8",
            "linecolor": "#EBF0F8",
            "ticks": ""
           }
          },
          "scene": {
           "xaxis": {
            "backgroundcolor": "white",
            "gridcolor": "#DFE8F3",
            "gridwidth": 2,
            "linecolor": "#EBF0F8",
            "showbackground": true,
            "ticks": "",
            "zerolinecolor": "#EBF0F8"
           },
           "yaxis": {
            "backgroundcolor": "white",
            "gridcolor": "#DFE8F3",
            "gridwidth": 2,
            "linecolor": "#EBF0F8",
            "showbackground": true,
            "ticks": "",
            "zerolinecolor": "#EBF0F8"
           },
           "zaxis": {
            "backgroundcolor": "white",
            "gridcolor": "#DFE8F3",
            "gridwidth": 2,
            "linecolor": "#EBF0F8",
            "showbackground": true,
            "ticks": "",
            "zerolinecolor": "#EBF0F8"
           }
          },
          "shapedefaults": {
           "line": {
            "color": "#2a3f5f"
           }
          },
          "ternary": {
           "aaxis": {
            "gridcolor": "#DFE8F3",
            "linecolor": "#A2B1C6",
            "ticks": ""
           },
           "baxis": {
            "gridcolor": "#DFE8F3",
            "linecolor": "#A2B1C6",
            "ticks": ""
           },
           "bgcolor": "white",
           "caxis": {
            "gridcolor": "#DFE8F3",
            "linecolor": "#A2B1C6",
            "ticks": ""
           }
          },
          "title": {
           "x": 0.05
          },
          "xaxis": {
           "automargin": true,
           "gridcolor": "#EBF0F8",
           "linecolor": "#EBF0F8",
           "ticks": "",
           "title": {
            "standoff": 15
           },
           "zerolinecolor": "#EBF0F8",
           "zerolinewidth": 2
          },
          "yaxis": {
           "automargin": true,
           "gridcolor": "#EBF0F8",
           "linecolor": "#EBF0F8",
           "ticks": "",
           "title": {
            "standoff": 15
           },
           "zerolinecolor": "#EBF0F8",
           "zerolinewidth": 2
          }
         }
        }
       }
      }
     },
     "metadata": {}
    }
   ],
   "source": [
    "# brillouin_zone\n",
    "\n",
    "fig = Figure()\n",
    "fig.add_unitcell(struct_prim.lattice.reciprocal_lattice)\n",
    "\n",
    "\n",
    "facets = struct_prim.lattice.get_brillouin_zone()\n",
    "traces = []\n",
    "for facet in facets:\n",
    "    x, y, z = np.stack(facet).T\n",
    "    trace = go.Mesh3d(x=x, y=y, z=z, color='lightpink', opacity=0.50)\n",
    "    # trace = go.Mesh3d(x=x, y=y, z=z, dsfasd=2)\n",
    "    traces.append(trace)\n",
    "\n",
    "\n",
    "fig.fig.add_traces(traces)\n",
    "fig.fig.update_scenes(camera_projection_type=\"orthographic\")\n",
    "\n",
    "fig.show()"
   ]
  },
  {
   "cell_type": "code",
   "execution_count": null,
   "metadata": {},
   "outputs": [],
   "source": []
  },
  {
   "cell_type": "code",
   "execution_count": 14,
   "metadata": {},
   "outputs": [
    {
     "output_type": "display_data",
     "data": {
      "application/vnd.plotly.v1+json": {
       "config": {
        "plotlyServerURL": "https://plot.ly"
       },
       "data": [
        {
         "line": {
          "color": "red",
          "width": 4
         },
         "mode": "lines+text",
         "text": [
          null,
          "a"
         ],
         "type": "scatter3d",
         "x": [
          0,
          1.5707963267948966
         ],
         "y": [
          0,
          0
         ],
         "z": [
          0,
          0
         ]
        },
        {
         "line": {
          "color": "green",
          "width": 4
         },
         "mode": "lines+text",
         "text": [
          null,
          "b"
         ],
         "type": "scatter3d",
         "x": [
          0,
          0
         ],
         "y": [
          0,
          1.5707963267948966
         ],
         "z": [
          0,
          0
         ]
        },
        {
         "line": {
          "color": "blue",
          "width": 4
         },
         "mode": "lines+text",
         "text": [
          null,
          "c"
         ],
         "type": "scatter3d",
         "x": [
          0,
          0
         ],
         "y": [
          0,
          0
         ],
         "z": [
          0,
          1.5707963267948966
         ]
        },
        {
         "line": {
          "color": "black",
          "width": 1
         },
         "mode": "lines",
         "type": "scatter3d",
         "x": [
          1.5707963267948966,
          1.5707963267948966
         ],
         "y": [
          0,
          1.5707963267948966
         ],
         "z": [
          0,
          0
         ]
        },
        {
         "line": {
          "color": "black",
          "width": 1
         },
         "mode": "lines",
         "type": "scatter3d",
         "x": [
          1.5707963267948966,
          1.5707963267948966
         ],
         "y": [
          0,
          0
         ],
         "z": [
          0,
          1.5707963267948966
         ]
        },
        {
         "line": {
          "color": "black",
          "width": 1
         },
         "mode": "lines",
         "type": "scatter3d",
         "x": [
          0,
          1.5707963267948966
         ],
         "y": [
          1.5707963267948966,
          1.5707963267948966
         ],
         "z": [
          0,
          0
         ]
        },
        {
         "line": {
          "color": "black",
          "width": 1
         },
         "mode": "lines",
         "type": "scatter3d",
         "x": [
          0,
          0
         ],
         "y": [
          1.5707963267948966,
          1.5707963267948966
         ],
         "z": [
          0,
          1.5707963267948966
         ]
        },
        {
         "line": {
          "color": "black",
          "width": 1
         },
         "mode": "lines",
         "type": "scatter3d",
         "x": [
          0,
          1.5707963267948966
         ],
         "y": [
          0,
          0
         ],
         "z": [
          1.5707963267948966,
          1.5707963267948966
         ]
        },
        {
         "line": {
          "color": "black",
          "width": 1
         },
         "mode": "lines",
         "type": "scatter3d",
         "x": [
          0,
          0
         ],
         "y": [
          0,
          1.5707963267948966
         ],
         "z": [
          1.5707963267948966,
          1.5707963267948966
         ]
        },
        {
         "line": {
          "color": "black",
          "width": 1
         },
         "mode": "lines",
         "type": "scatter3d",
         "x": [
          1.5707963267948966,
          1.5707963267948966
         ],
         "y": [
          1.5707963267948966,
          1.5707963267948966
         ],
         "z": [
          0,
          1.5707963267948966
         ]
        },
        {
         "line": {
          "color": "black",
          "width": 1
         },
         "mode": "lines",
         "type": "scatter3d",
         "x": [
          0,
          1.5707963267948966
         ],
         "y": [
          1.5707963267948966,
          1.5707963267948966
         ],
         "z": [
          1.5707963267948966,
          1.5707963267948966
         ]
        },
        {
         "line": {
          "color": "black",
          "width": 1
         },
         "mode": "lines",
         "type": "scatter3d",
         "x": [
          1.5707963267948966,
          1.5707963267948966
         ],
         "y": [
          0,
          1.5707963267948966
         ],
         "z": [
          1.5707963267948966,
          1.5707963267948966
         ]
        },
        {
         "line": {
          "color": "red",
          "width": 4
         },
         "mode": "lines+text",
         "text": [
          null,
          "a"
         ],
         "type": "scatter3d",
         "x": [
          0,
          1.5707963267948966
         ],
         "y": [
          0,
          -1.5707963267948966
         ],
         "z": [
          0,
          0
         ]
        },
        {
         "line": {
          "color": "green",
          "width": 4
         },
         "mode": "lines+text",
         "text": [
          null,
          "b"
         ],
         "type": "scatter3d",
         "x": [
          0,
          1.5707963267948966
         ],
         "y": [
          0,
          1.5707963267948966
         ],
         "z": [
          0,
          0
         ]
        },
        {
         "line": {
          "color": "blue",
          "width": 4
         },
         "mode": "lines+text",
         "text": [
          null,
          "c"
         ],
         "type": "scatter3d",
         "x": [
          0,
          0
         ],
         "y": [
          0,
          0
         ],
         "z": [
          0,
          1.5707963267948966
         ]
        },
        {
         "line": {
          "color": "black",
          "width": 1
         },
         "mode": "lines",
         "type": "scatter3d",
         "x": [
          1.5707963267948966,
          3.141592653589793
         ],
         "y": [
          -1.5707963267948966,
          0
         ],
         "z": [
          0,
          0
         ]
        },
        {
         "line": {
          "color": "black",
          "width": 1
         },
         "mode": "lines",
         "type": "scatter3d",
         "x": [
          1.5707963267948966,
          1.5707963267948966
         ],
         "y": [
          -1.5707963267948966,
          -1.5707963267948966
         ],
         "z": [
          0,
          1.5707963267948966
         ]
        },
        {
         "line": {
          "color": "black",
          "width": 1
         },
         "mode": "lines",
         "type": "scatter3d",
         "x": [
          1.5707963267948966,
          3.141592653589793
         ],
         "y": [
          1.5707963267948966,
          0
         ],
         "z": [
          0,
          0
         ]
        },
        {
         "line": {
          "color": "black",
          "width": 1
         },
         "mode": "lines",
         "type": "scatter3d",
         "x": [
          1.5707963267948966,
          1.5707963267948966
         ],
         "y": [
          1.5707963267948966,
          1.5707963267948966
         ],
         "z": [
          0,
          1.5707963267948966
         ]
        },
        {
         "line": {
          "color": "black",
          "width": 1
         },
         "mode": "lines",
         "type": "scatter3d",
         "x": [
          0,
          1.5707963267948966
         ],
         "y": [
          0,
          -1.5707963267948966
         ],
         "z": [
          1.5707963267948966,
          1.5707963267948966
         ]
        },
        {
         "line": {
          "color": "black",
          "width": 1
         },
         "mode": "lines",
         "type": "scatter3d",
         "x": [
          0,
          1.5707963267948966
         ],
         "y": [
          0,
          1.5707963267948966
         ],
         "z": [
          1.5707963267948966,
          1.5707963267948966
         ]
        },
        {
         "line": {
          "color": "black",
          "width": 1
         },
         "mode": "lines",
         "type": "scatter3d",
         "x": [
          3.141592653589793,
          3.141592653589793
         ],
         "y": [
          0,
          0
         ],
         "z": [
          0,
          1.5707963267948966
         ]
        },
        {
         "line": {
          "color": "black",
          "width": 1
         },
         "mode": "lines",
         "type": "scatter3d",
         "x": [
          1.5707963267948966,
          3.141592653589793
         ],
         "y": [
          1.5707963267948966,
          0
         ],
         "z": [
          1.5707963267948966,
          1.5707963267948966
         ]
        },
        {
         "line": {
          "color": "black",
          "width": 1
         },
         "mode": "lines",
         "type": "scatter3d",
         "x": [
          1.5707963267948966,
          3.141592653589793
         ],
         "y": [
          -1.5707963267948966,
          0
         ],
         "z": [
          1.5707963267948966,
          1.5707963267948966
         ]
        },
        {
         "mode": "markers",
         "type": "scatter3d",
         "x": [
          0.19634954084936207,
          0.19634954084936207,
          0.19634954084936207,
          0.19634954084936207,
          0.19634954084936207,
          0.19634954084936207,
          0.19634954084936207,
          0.19634954084936207,
          0.19634954084936207,
          0.19634954084936207,
          0.19634954084936207,
          0.19634954084936207,
          0.19634954084936207,
          0.19634954084936207,
          0.19634954084936207,
          0.19634954084936207,
          0.5890486225480862,
          0.5890486225480862,
          0.5890486225480862,
          0.5890486225480862,
          0.5890486225480862,
          0.5890486225480862,
          0.5890486225480862,
          0.5890486225480862,
          0.5890486225480862,
          0.5890486225480862,
          0.5890486225480862,
          0.5890486225480862,
          0.5890486225480862,
          0.5890486225480862,
          0.5890486225480862,
          0.5890486225480862,
          0.9817477042468103,
          0.9817477042468103,
          0.9817477042468103,
          0.9817477042468103,
          0.9817477042468103,
          0.9817477042468103,
          0.9817477042468103,
          0.9817477042468103,
          0.9817477042468103,
          0.9817477042468103,
          0.9817477042468103,
          0.9817477042468103,
          0.9817477042468103,
          0.9817477042468103,
          0.9817477042468103,
          0.9817477042468103,
          1.3744467859455345,
          1.3744467859455345,
          1.3744467859455345,
          1.3744467859455345,
          1.3744467859455345,
          1.3744467859455345,
          1.3744467859455345,
          1.3744467859455345,
          1.3744467859455345,
          1.3744467859455345,
          1.3744467859455345,
          1.3744467859455345,
          1.3744467859455345,
          1.3744467859455345,
          1.3744467859455345,
          1.3744467859455345
         ],
         "y": [
          0.19634954084936207,
          0.19634954084936207,
          0.19634954084936207,
          0.19634954084936207,
          0.5890486225480862,
          0.5890486225480862,
          0.5890486225480862,
          0.5890486225480862,
          0.9817477042468103,
          0.9817477042468103,
          0.9817477042468103,
          0.9817477042468103,
          1.3744467859455345,
          1.3744467859455345,
          1.3744467859455345,
          1.3744467859455345,
          0.19634954084936207,
          0.19634954084936207,
          0.19634954084936207,
          0.19634954084936207,
          0.5890486225480862,
          0.5890486225480862,
          0.5890486225480862,
          0.5890486225480862,
          0.9817477042468103,
          0.9817477042468103,
          0.9817477042468103,
          0.9817477042468103,
          1.3744467859455345,
          1.3744467859455345,
          1.3744467859455345,
          1.3744467859455345,
          0.19634954084936207,
          0.19634954084936207,
          0.19634954084936207,
          0.19634954084936207,
          0.5890486225480862,
          0.5890486225480862,
          0.5890486225480862,
          0.5890486225480862,
          0.9817477042468103,
          0.9817477042468103,
          0.9817477042468103,
          0.9817477042468103,
          1.3744467859455345,
          1.3744467859455345,
          1.3744467859455345,
          1.3744467859455345,
          0.19634954084936207,
          0.19634954084936207,
          0.19634954084936207,
          0.19634954084936207,
          0.5890486225480862,
          0.5890486225480862,
          0.5890486225480862,
          0.5890486225480862,
          0.9817477042468103,
          0.9817477042468103,
          0.9817477042468103,
          0.9817477042468103,
          1.3744467859455345,
          1.3744467859455345,
          1.3744467859455345,
          1.3744467859455345
         ],
         "z": [
          0.19634954084936207,
          0.5890486225480862,
          0.9817477042468103,
          1.3744467859455345,
          0.19634954084936207,
          0.5890486225480862,
          0.9817477042468103,
          1.3744467859455345,
          0.19634954084936207,
          0.5890486225480862,
          0.9817477042468103,
          1.3744467859455345,
          0.19634954084936207,
          0.5890486225480862,
          0.9817477042468103,
          1.3744467859455345,
          0.19634954084936207,
          0.5890486225480862,
          0.9817477042468103,
          1.3744467859455345,
          0.19634954084936207,
          0.5890486225480862,
          0.9817477042468103,
          1.3744467859455345,
          0.19634954084936207,
          0.5890486225480862,
          0.9817477042468103,
          1.3744467859455345,
          0.19634954084936207,
          0.5890486225480862,
          0.9817477042468103,
          1.3744467859455345,
          0.19634954084936207,
          0.5890486225480862,
          0.9817477042468103,
          1.3744467859455345,
          0.19634954084936207,
          0.5890486225480862,
          0.9817477042468103,
          1.3744467859455345,
          0.19634954084936207,
          0.5890486225480862,
          0.9817477042468103,
          1.3744467859455345,
          0.19634954084936207,
          0.5890486225480862,
          0.9817477042468103,
          1.3744467859455345,
          0.19634954084936207,
          0.5890486225480862,
          0.9817477042468103,
          1.3744467859455345,
          0.19634954084936207,
          0.5890486225480862,
          0.9817477042468103,
          1.3744467859455345,
          0.19634954084936207,
          0.5890486225480862,
          0.9817477042468103,
          1.3744467859455345,
          0.19634954084936207,
          0.5890486225480862,
          0.9817477042468103,
          1.3744467859455345
         ]
        },
        {
         "mode": "markers",
         "type": "scatter3d",
         "x": [
          0.19634954084936207,
          0.19634954084936207,
          0.19634954084936207,
          0.19634954084936207,
          0.5890486225480862,
          0.5890486225480862,
          0.5890486225480862,
          0.5890486225480862,
          0.9817477042468103,
          0.9817477042468103,
          0.9817477042468103,
          0.9817477042468103,
          1.3744467859455345,
          1.3744467859455345,
          1.3744467859455345,
          1.3744467859455345,
          0.5890486225480862,
          0.5890486225480862,
          0.5890486225480862,
          0.5890486225480862,
          0.9817477042468103,
          0.9817477042468103,
          0.9817477042468103,
          0.9817477042468103,
          1.3744467859455345,
          1.3744467859455345,
          1.3744467859455345,
          1.3744467859455345,
          1.7671458676442586,
          1.7671458676442586,
          1.7671458676442586,
          1.7671458676442586,
          0.9817477042468103,
          0.9817477042468103,
          0.9817477042468103,
          0.9817477042468103,
          1.3744467859455345,
          1.3744467859455345,
          1.3744467859455345,
          1.3744467859455345,
          1.7671458676442586,
          1.7671458676442586,
          1.7671458676442586,
          1.7671458676442586,
          2.1598449493429825,
          2.1598449493429825,
          2.1598449493429825,
          2.1598449493429825,
          1.3744467859455345,
          1.3744467859455345,
          1.3744467859455345,
          1.3744467859455345,
          1.7671458676442586,
          1.7671458676442586,
          1.7671458676442586,
          1.7671458676442586,
          2.1598449493429825,
          2.1598449493429825,
          2.1598449493429825,
          2.1598449493429825,
          2.552544031041707,
          2.552544031041707,
          2.552544031041707,
          2.552544031041707
         ],
         "y": [
          -0.19634954084936207,
          -0.19634954084936207,
          -0.19634954084936207,
          -0.19634954084936207,
          0.19634954084936207,
          0.19634954084936207,
          0.19634954084936207,
          0.19634954084936207,
          0.5890486225480862,
          0.5890486225480862,
          0.5890486225480862,
          0.5890486225480862,
          0.9817477042468103,
          0.9817477042468103,
          0.9817477042468103,
          0.9817477042468103,
          -0.5890486225480862,
          -0.5890486225480862,
          -0.5890486225480862,
          -0.5890486225480862,
          -0.19634954084936207,
          -0.19634954084936207,
          -0.19634954084936207,
          -0.19634954084936207,
          0.19634954084936207,
          0.19634954084936207,
          0.19634954084936207,
          0.19634954084936207,
          0.5890486225480862,
          0.5890486225480862,
          0.5890486225480862,
          0.5890486225480862,
          -0.9817477042468103,
          -0.9817477042468103,
          -0.9817477042468103,
          -0.9817477042468103,
          -0.5890486225480862,
          -0.5890486225480862,
          -0.5890486225480862,
          -0.5890486225480862,
          -0.19634954084936207,
          -0.19634954084936207,
          -0.19634954084936207,
          -0.19634954084936207,
          0.19634954084936207,
          0.19634954084936207,
          0.19634954084936207,
          0.19634954084936207,
          -1.3744467859455345,
          -1.3744467859455345,
          -1.3744467859455345,
          -1.3744467859455345,
          -0.9817477042468103,
          -0.9817477042468103,
          -0.9817477042468103,
          -0.9817477042468103,
          -0.5890486225480862,
          -0.5890486225480862,
          -0.5890486225480862,
          -0.5890486225480862,
          -0.19634954084936207,
          -0.19634954084936207,
          -0.19634954084936207,
          -0.19634954084936207
         ],
         "z": [
          0.19634954084936207,
          0.5890486225480862,
          0.9817477042468103,
          1.3744467859455345,
          0.19634954084936207,
          0.5890486225480862,
          0.9817477042468103,
          1.3744467859455345,
          0.19634954084936207,
          0.5890486225480862,
          0.9817477042468103,
          1.3744467859455345,
          0.19634954084936207,
          0.5890486225480862,
          0.9817477042468103,
          1.3744467859455345,
          0.19634954084936207,
          0.5890486225480862,
          0.9817477042468103,
          1.3744467859455345,
          0.19634954084936207,
          0.5890486225480862,
          0.9817477042468103,
          1.3744467859455345,
          0.19634954084936207,
          0.5890486225480862,
          0.9817477042468103,
          1.3744467859455345,
          0.19634954084936207,
          0.5890486225480862,
          0.9817477042468103,
          1.3744467859455345,
          0.19634954084936207,
          0.5890486225480862,
          0.9817477042468103,
          1.3744467859455345,
          0.19634954084936207,
          0.5890486225480862,
          0.9817477042468103,
          1.3744467859455345,
          0.19634954084936207,
          0.5890486225480862,
          0.9817477042468103,
          1.3744467859455345,
          0.19634954084936207,
          0.5890486225480862,
          0.9817477042468103,
          1.3744467859455345,
          0.19634954084936207,
          0.5890486225480862,
          0.9817477042468103,
          1.3744467859455345,
          0.19634954084936207,
          0.5890486225480862,
          0.9817477042468103,
          1.3744467859455345,
          0.19634954084936207,
          0.5890486225480862,
          0.9817477042468103,
          1.3744467859455345,
          0.19634954084936207,
          0.5890486225480862,
          0.9817477042468103,
          1.3744467859455345
         ]
        },
        {
         "mode": "markers",
         "type": "scatter3d",
         "x": [
          0.19634954084936207,
          0.19634954084936207,
          0.19634954084936207,
          0.19634954084936207,
          0.5890486225480862,
          0.5890486225480862,
          0.5890486225480862,
          0.5890486225480862,
          0.9817477042468103,
          0.9817477042468103,
          0.9817477042468103,
          0.9817477042468103,
          1.3744467859455345,
          1.3744467859455345,
          1.3744467859455345,
          1.3744467859455345,
          0.5890486225480862,
          0.5890486225480862,
          0.5890486225480862,
          0.5890486225480862,
          0.9817477042468103,
          0.9817477042468103,
          0.9817477042468103,
          0.9817477042468103,
          1.3744467859455345,
          1.3744467859455345,
          1.3744467859455345,
          1.3744467859455345,
          1.7671458676442586,
          1.7671458676442586,
          1.7671458676442586,
          1.7671458676442586,
          0.9817477042468103,
          0.9817477042468103,
          0.9817477042468103,
          0.9817477042468103,
          1.3744467859455345,
          1.3744467859455345,
          1.3744467859455345,
          1.3744467859455345,
          1.7671458676442586,
          1.7671458676442586,
          1.7671458676442586,
          1.7671458676442586,
          2.1598449493429825,
          2.1598449493429825,
          2.1598449493429825,
          2.1598449493429825,
          1.3744467859455345,
          1.3744467859455345,
          1.3744467859455345,
          1.3744467859455345,
          1.7671458676442586,
          1.7671458676442586,
          1.7671458676442586,
          1.7671458676442586,
          2.1598449493429825,
          2.1598449493429825,
          2.1598449493429825,
          2.1598449493429825,
          2.552544031041707,
          2.552544031041707,
          2.552544031041707,
          2.552544031041707
         ],
         "y": [
          0.19634954084936207,
          0.19634954084936207,
          0.19634954084936207,
          0.19634954084936207,
          0.5890486225480862,
          0.5890486225480862,
          0.5890486225480862,
          0.5890486225480862,
          0.9817477042468103,
          0.9817477042468103,
          0.9817477042468103,
          0.9817477042468103,
          1.3744467859455345,
          1.3744467859455345,
          1.3744467859455345,
          1.3744467859455345,
          -0.19634954084936207,
          -0.19634954084936207,
          -0.19634954084936207,
          -0.19634954084936207,
          0.19634954084936207,
          0.19634954084936207,
          0.19634954084936207,
          0.19634954084936207,
          0.5890486225480862,
          0.5890486225480862,
          0.5890486225480862,
          0.5890486225480862,
          0.9817477042468103,
          0.9817477042468103,
          0.9817477042468103,
          0.9817477042468103,
          -0.5890486225480862,
          -0.5890486225480862,
          -0.5890486225480862,
          -0.5890486225480862,
          -0.19634954084936207,
          -0.19634954084936207,
          -0.19634954084936207,
          -0.19634954084936207,
          0.19634954084936207,
          0.19634954084936207,
          0.19634954084936207,
          0.19634954084936207,
          0.5890486225480862,
          0.5890486225480862,
          0.5890486225480862,
          0.5890486225480862,
          -0.9817477042468103,
          -0.9817477042468103,
          -0.9817477042468103,
          -0.9817477042468103,
          -0.5890486225480862,
          -0.5890486225480862,
          -0.5890486225480862,
          -0.5890486225480862,
          -0.19634954084936207,
          -0.19634954084936207,
          -0.19634954084936207,
          -0.19634954084936207,
          0.19634954084936207,
          0.19634954084936207,
          0.19634954084936207,
          0.19634954084936207
         ],
         "z": [
          0.19634954084936207,
          0.5890486225480862,
          0.9817477042468103,
          1.3744467859455345,
          0.19634954084936207,
          0.5890486225480862,
          0.9817477042468103,
          1.3744467859455345,
          0.19634954084936207,
          0.5890486225480862,
          0.9817477042468103,
          1.3744467859455345,
          0.19634954084936207,
          0.5890486225480862,
          0.9817477042468103,
          1.3744467859455345,
          0.19634954084936207,
          0.5890486225480862,
          0.9817477042468103,
          1.3744467859455345,
          0.19634954084936207,
          0.5890486225480862,
          0.9817477042468103,
          1.3744467859455345,
          0.19634954084936207,
          0.5890486225480862,
          0.9817477042468103,
          1.3744467859455345,
          0.19634954084936207,
          0.5890486225480862,
          0.9817477042468103,
          1.3744467859455345,
          0.19634954084936207,
          0.5890486225480862,
          0.9817477042468103,
          1.3744467859455345,
          0.19634954084936207,
          0.5890486225480862,
          0.9817477042468103,
          1.3744467859455345,
          0.19634954084936207,
          0.5890486225480862,
          0.9817477042468103,
          1.3744467859455345,
          0.19634954084936207,
          0.5890486225480862,
          0.9817477042468103,
          1.3744467859455345,
          0.19634954084936207,
          0.5890486225480862,
          0.9817477042468103,
          1.3744467859455345,
          0.19634954084936207,
          0.5890486225480862,
          0.9817477042468103,
          1.3744467859455345,
          0.19634954084936207,
          0.5890486225480862,
          0.9817477042468103,
          1.3744467859455345,
          0.19634954084936207,
          0.5890486225480862,
          0.9817477042468103,
          1.3744467859455345
         ]
        }
       ],
       "layout": {
        "dragmode": "orbit",
        "margin": {
         "b": 0,
         "l": 0,
         "r": 0,
         "t": 0
        },
        "scene": {
         "aspectmode": "data",
         "camera": {
          "projection": {
           "type": "orthographic"
          }
         },
         "xaxis": {
          "showbackground": false,
          "showgrid": false,
          "showline": false,
          "showspikes": false,
          "showticklabels": false,
          "ticks": "",
          "title": {
           "text": ""
          },
          "zeroline": false
         },
         "yaxis": {
          "showbackground": false,
          "showgrid": false,
          "showline": false,
          "showspikes": false,
          "showticklabels": false,
          "ticks": "",
          "title": {
           "text": ""
          },
          "zeroline": false
         },
         "zaxis": {
          "showbackground": false,
          "showgrid": false,
          "showline": false,
          "showspikes": false,
          "showticklabels": false,
          "ticks": "",
          "title": {
           "text": ""
          },
          "zeroline": false
         }
        },
        "showlegend": false,
        "template": {
         "data": {
          "bar": [
           {
            "error_x": {
             "color": "#2a3f5f"
            },
            "error_y": {
             "color": "#2a3f5f"
            },
            "marker": {
             "line": {
              "color": "white",
              "width": 0.5
             }
            },
            "type": "bar"
           }
          ],
          "barpolar": [
           {
            "marker": {
             "line": {
              "color": "white",
              "width": 0.5
             }
            },
            "type": "barpolar"
           }
          ],
          "carpet": [
           {
            "aaxis": {
             "endlinecolor": "#2a3f5f",
             "gridcolor": "#C8D4E3",
             "linecolor": "#C8D4E3",
             "minorgridcolor": "#C8D4E3",
             "startlinecolor": "#2a3f5f"
            },
            "baxis": {
             "endlinecolor": "#2a3f5f",
             "gridcolor": "#C8D4E3",
             "linecolor": "#C8D4E3",
             "minorgridcolor": "#C8D4E3",
             "startlinecolor": "#2a3f5f"
            },
            "type": "carpet"
           }
          ],
          "choropleth": [
           {
            "colorbar": {
             "outlinewidth": 0,
             "ticks": ""
            },
            "type": "choropleth"
           }
          ],
          "contour": [
           {
            "colorbar": {
             "outlinewidth": 0,
             "ticks": ""
            },
            "colorscale": [
             [
              0,
              "#0d0887"
             ],
             [
              0.1111111111111111,
              "#46039f"
             ],
             [
              0.2222222222222222,
              "#7201a8"
             ],
             [
              0.3333333333333333,
              "#9c179e"
             ],
             [
              0.4444444444444444,
              "#bd3786"
             ],
             [
              0.5555555555555556,
              "#d8576b"
             ],
             [
              0.6666666666666666,
              "#ed7953"
             ],
             [
              0.7777777777777778,
              "#fb9f3a"
             ],
             [
              0.8888888888888888,
              "#fdca26"
             ],
             [
              1,
              "#f0f921"
             ]
            ],
            "type": "contour"
           }
          ],
          "contourcarpet": [
           {
            "colorbar": {
             "outlinewidth": 0,
             "ticks": ""
            },
            "type": "contourcarpet"
           }
          ],
          "heatmap": [
           {
            "colorbar": {
             "outlinewidth": 0,
             "ticks": ""
            },
            "colorscale": [
             [
              0,
              "#0d0887"
             ],
             [
              0.1111111111111111,
              "#46039f"
             ],
             [
              0.2222222222222222,
              "#7201a8"
             ],
             [
              0.3333333333333333,
              "#9c179e"
             ],
             [
              0.4444444444444444,
              "#bd3786"
             ],
             [
              0.5555555555555556,
              "#d8576b"
             ],
             [
              0.6666666666666666,
              "#ed7953"
             ],
             [
              0.7777777777777778,
              "#fb9f3a"
             ],
             [
              0.8888888888888888,
              "#fdca26"
             ],
             [
              1,
              "#f0f921"
             ]
            ],
            "type": "heatmap"
           }
          ],
          "heatmapgl": [
           {
            "colorbar": {
             "outlinewidth": 0,
             "ticks": ""
            },
            "colorscale": [
             [
              0,
              "#0d0887"
             ],
             [
              0.1111111111111111,
              "#46039f"
             ],
             [
              0.2222222222222222,
              "#7201a8"
             ],
             [
              0.3333333333333333,
              "#9c179e"
             ],
             [
              0.4444444444444444,
              "#bd3786"
             ],
             [
              0.5555555555555556,
              "#d8576b"
             ],
             [
              0.6666666666666666,
              "#ed7953"
             ],
             [
              0.7777777777777778,
              "#fb9f3a"
             ],
             [
              0.8888888888888888,
              "#fdca26"
             ],
             [
              1,
              "#f0f921"
             ]
            ],
            "type": "heatmapgl"
           }
          ],
          "histogram": [
           {
            "marker": {
             "colorbar": {
              "outlinewidth": 0,
              "ticks": ""
             }
            },
            "type": "histogram"
           }
          ],
          "histogram2d": [
           {
            "colorbar": {
             "outlinewidth": 0,
             "ticks": ""
            },
            "colorscale": [
             [
              0,
              "#0d0887"
             ],
             [
              0.1111111111111111,
              "#46039f"
             ],
             [
              0.2222222222222222,
              "#7201a8"
             ],
             [
              0.3333333333333333,
              "#9c179e"
             ],
             [
              0.4444444444444444,
              "#bd3786"
             ],
             [
              0.5555555555555556,
              "#d8576b"
             ],
             [
              0.6666666666666666,
              "#ed7953"
             ],
             [
              0.7777777777777778,
              "#fb9f3a"
             ],
             [
              0.8888888888888888,
              "#fdca26"
             ],
             [
              1,
              "#f0f921"
             ]
            ],
            "type": "histogram2d"
           }
          ],
          "histogram2dcontour": [
           {
            "colorbar": {
             "outlinewidth": 0,
             "ticks": ""
            },
            "colorscale": [
             [
              0,
              "#0d0887"
             ],
             [
              0.1111111111111111,
              "#46039f"
             ],
             [
              0.2222222222222222,
              "#7201a8"
             ],
             [
              0.3333333333333333,
              "#9c179e"
             ],
             [
              0.4444444444444444,
              "#bd3786"
             ],
             [
              0.5555555555555556,
              "#d8576b"
             ],
             [
              0.6666666666666666,
              "#ed7953"
             ],
             [
              0.7777777777777778,
              "#fb9f3a"
             ],
             [
              0.8888888888888888,
              "#fdca26"
             ],
             [
              1,
              "#f0f921"
             ]
            ],
            "type": "histogram2dcontour"
           }
          ],
          "mesh3d": [
           {
            "colorbar": {
             "outlinewidth": 0,
             "ticks": ""
            },
            "type": "mesh3d"
           }
          ],
          "parcoords": [
           {
            "line": {
             "colorbar": {
              "outlinewidth": 0,
              "ticks": ""
             }
            },
            "type": "parcoords"
           }
          ],
          "pie": [
           {
            "automargin": true,
            "type": "pie"
           }
          ],
          "scatter": [
           {
            "marker": {
             "colorbar": {
              "outlinewidth": 0,
              "ticks": ""
             }
            },
            "type": "scatter"
           }
          ],
          "scatter3d": [
           {
            "line": {
             "colorbar": {
              "outlinewidth": 0,
              "ticks": ""
             }
            },
            "marker": {
             "colorbar": {
              "outlinewidth": 0,
              "ticks": ""
             }
            },
            "type": "scatter3d"
           }
          ],
          "scattercarpet": [
           {
            "marker": {
             "colorbar": {
              "outlinewidth": 0,
              "ticks": ""
             }
            },
            "type": "scattercarpet"
           }
          ],
          "scattergeo": [
           {
            "marker": {
             "colorbar": {
              "outlinewidth": 0,
              "ticks": ""
             }
            },
            "type": "scattergeo"
           }
          ],
          "scattergl": [
           {
            "marker": {
             "colorbar": {
              "outlinewidth": 0,
              "ticks": ""
             }
            },
            "type": "scattergl"
           }
          ],
          "scattermapbox": [
           {
            "marker": {
             "colorbar": {
              "outlinewidth": 0,
              "ticks": ""
             }
            },
            "type": "scattermapbox"
           }
          ],
          "scatterpolar": [
           {
            "marker": {
             "colorbar": {
              "outlinewidth": 0,
              "ticks": ""
             }
            },
            "type": "scatterpolar"
           }
          ],
          "scatterpolargl": [
           {
            "marker": {
             "colorbar": {
              "outlinewidth": 0,
              "ticks": ""
             }
            },
            "type": "scatterpolargl"
           }
          ],
          "scatterternary": [
           {
            "marker": {
             "colorbar": {
              "outlinewidth": 0,
              "ticks": ""
             }
            },
            "type": "scatterternary"
           }
          ],
          "surface": [
           {
            "colorbar": {
             "outlinewidth": 0,
             "ticks": ""
            },
            "colorscale": [
             [
              0,
              "#0d0887"
             ],
             [
              0.1111111111111111,
              "#46039f"
             ],
             [
              0.2222222222222222,
              "#7201a8"
             ],
             [
              0.3333333333333333,
              "#9c179e"
             ],
             [
              0.4444444444444444,
              "#bd3786"
             ],
             [
              0.5555555555555556,
              "#d8576b"
             ],
             [
              0.6666666666666666,
              "#ed7953"
             ],
             [
              0.7777777777777778,
              "#fb9f3a"
             ],
             [
              0.8888888888888888,
              "#fdca26"
             ],
             [
              1,
              "#f0f921"
             ]
            ],
            "type": "surface"
           }
          ],
          "table": [
           {
            "cells": {
             "fill": {
              "color": "#EBF0F8"
             },
             "line": {
              "color": "white"
             }
            },
            "header": {
             "fill": {
              "color": "#C8D4E3"
             },
             "line": {
              "color": "white"
             }
            },
            "type": "table"
           }
          ]
         },
         "layout": {
          "annotationdefaults": {
           "arrowcolor": "#2a3f5f",
           "arrowhead": 0,
           "arrowwidth": 1
          },
          "coloraxis": {
           "colorbar": {
            "outlinewidth": 0,
            "ticks": ""
           }
          },
          "colorscale": {
           "diverging": [
            [
             0,
             "#8e0152"
            ],
            [
             0.1,
             "#c51b7d"
            ],
            [
             0.2,
             "#de77ae"
            ],
            [
             0.3,
             "#f1b6da"
            ],
            [
             0.4,
             "#fde0ef"
            ],
            [
             0.5,
             "#f7f7f7"
            ],
            [
             0.6,
             "#e6f5d0"
            ],
            [
             0.7,
             "#b8e186"
            ],
            [
             0.8,
             "#7fbc41"
            ],
            [
             0.9,
             "#4d9221"
            ],
            [
             1,
             "#276419"
            ]
           ],
           "sequential": [
            [
             0,
             "#0d0887"
            ],
            [
             0.1111111111111111,
             "#46039f"
            ],
            [
             0.2222222222222222,
             "#7201a8"
            ],
            [
             0.3333333333333333,
             "#9c179e"
            ],
            [
             0.4444444444444444,
             "#bd3786"
            ],
            [
             0.5555555555555556,
             "#d8576b"
            ],
            [
             0.6666666666666666,
             "#ed7953"
            ],
            [
             0.7777777777777778,
             "#fb9f3a"
            ],
            [
             0.8888888888888888,
             "#fdca26"
            ],
            [
             1,
             "#f0f921"
            ]
           ],
           "sequentialminus": [
            [
             0,
             "#0d0887"
            ],
            [
             0.1111111111111111,
             "#46039f"
            ],
            [
             0.2222222222222222,
             "#7201a8"
            ],
            [
             0.3333333333333333,
             "#9c179e"
            ],
            [
             0.4444444444444444,
             "#bd3786"
            ],
            [
             0.5555555555555556,
             "#d8576b"
            ],
            [
             0.6666666666666666,
             "#ed7953"
            ],
            [
             0.7777777777777778,
             "#fb9f3a"
            ],
            [
             0.8888888888888888,
             "#fdca26"
            ],
            [
             1,
             "#f0f921"
            ]
           ]
          },
          "colorway": [
           "#636efa",
           "#EF553B",
           "#00cc96",
           "#ab63fa",
           "#FFA15A",
           "#19d3f3",
           "#FF6692",
           "#B6E880",
           "#FF97FF",
           "#FECB52"
          ],
          "font": {
           "color": "#2a3f5f"
          },
          "geo": {
           "bgcolor": "white",
           "lakecolor": "white",
           "landcolor": "white",
           "showlakes": true,
           "showland": true,
           "subunitcolor": "#C8D4E3"
          },
          "hoverlabel": {
           "align": "left"
          },
          "hovermode": "closest",
          "mapbox": {
           "style": "light"
          },
          "paper_bgcolor": "white",
          "plot_bgcolor": "white",
          "polar": {
           "angularaxis": {
            "gridcolor": "#EBF0F8",
            "linecolor": "#EBF0F8",
            "ticks": ""
           },
           "bgcolor": "white",
           "radialaxis": {
            "gridcolor": "#EBF0F8",
            "linecolor": "#EBF0F8",
            "ticks": ""
           }
          },
          "scene": {
           "xaxis": {
            "backgroundcolor": "white",
            "gridcolor": "#DFE8F3",
            "gridwidth": 2,
            "linecolor": "#EBF0F8",
            "showbackground": true,
            "ticks": "",
            "zerolinecolor": "#EBF0F8"
           },
           "yaxis": {
            "backgroundcolor": "white",
            "gridcolor": "#DFE8F3",
            "gridwidth": 2,
            "linecolor": "#EBF0F8",
            "showbackground": true,
            "ticks": "",
            "zerolinecolor": "#EBF0F8"
           },
           "zaxis": {
            "backgroundcolor": "white",
            "gridcolor": "#DFE8F3",
            "gridwidth": 2,
            "linecolor": "#EBF0F8",
            "showbackground": true,
            "ticks": "",
            "zerolinecolor": "#EBF0F8"
           }
          },
          "shapedefaults": {
           "line": {
            "color": "#2a3f5f"
           }
          },
          "ternary": {
           "aaxis": {
            "gridcolor": "#DFE8F3",
            "linecolor": "#A2B1C6",
            "ticks": ""
           },
           "baxis": {
            "gridcolor": "#DFE8F3",
            "linecolor": "#A2B1C6",
            "ticks": ""
           },
           "bgcolor": "white",
           "caxis": {
            "gridcolor": "#DFE8F3",
            "linecolor": "#A2B1C6",
            "ticks": ""
           }
          },
          "title": {
           "x": 0.05
          },
          "xaxis": {
           "automargin": true,
           "gridcolor": "#EBF0F8",
           "linecolor": "#EBF0F8",
           "ticks": "",
           "title": {
            "standoff": 15
           },
           "zerolinecolor": "#EBF0F8",
           "zerolinewidth": 2
          },
          "yaxis": {
           "automargin": true,
           "gridcolor": "#EBF0F8",
           "linecolor": "#EBF0F8",
           "ticks": "",
           "title": {
            "standoff": 15
           },
           "zerolinecolor": "#EBF0F8",
           "zerolinewidth": 2
          }
         }
        }
       }
      }
     },
     "metadata": {}
    }
   ],
   "source": [
    "# k-point grid\n",
    "\n",
    "fig = Figure()\n",
    "fig.add_unitcell(struct_conv.lattice.reciprocal_lattice)\n",
    "fig.add_unitcell(struct_reduced.lattice.reciprocal_lattice)\n",
    "\n",
    "grid = struct_conv.lattice.reciprocal_lattice.get_cartesian_coords(build_grid(4, shift=[0.5, 0.5, 0.5]))\n",
    "x,y,z = grid.T\n",
    "trace = go.Scatter3d(x=x,y=y,z=z, mode='markers')\n",
    "fig.fig.add_trace(trace)\n",
    "\n",
    "\n",
    "\n",
    "grid = struct_reduced.lattice.reciprocal_lattice.get_cartesian_coords(build_grid(4, shift=[0.5, 0.0, 0.5]))\n",
    "x,y,z = grid.T\n",
    "trace = go.Scatter3d(x=x,y=y,z=z, mode='markers')\n",
    "fig.fig.add_trace(trace)\n",
    "\n",
    "grid = struct_reduced.lattice.reciprocal_lattice.get_cartesian_coords(build_grid(4, shift=[0.0, 0.5, 0.5]))\n",
    "x,y,z = grid.T\n",
    "trace = go.Scatter3d(x=x,y=y,z=z, mode='markers')\n",
    "fig.fig.add_trace(trace)\n",
    "\n",
    "fig.fig.update_scenes(camera_projection_type=\"orthographic\")\n",
    "\n",
    "fig.show()"
   ]
  },
  {
   "cell_type": "code",
   "execution_count": 13,
   "metadata": {},
   "outputs": [
    {
     "output_type": "display_data",
     "data": {
      "application/vnd.plotly.v1+json": {
       "config": {
        "plotlyServerURL": "https://plot.ly"
       },
       "data": [
        {
         "line": {
          "color": "red",
          "width": 4
         },
         "mode": "lines+text",
         "text": [
          null,
          "a"
         ],
         "type": "scatter3d",
         "x": [
          0,
          1.5707963267948966
         ],
         "y": [
          0,
          0
         ],
         "z": [
          0,
          0
         ]
        },
        {
         "line": {
          "color": "green",
          "width": 4
         },
         "mode": "lines+text",
         "text": [
          null,
          "b"
         ],
         "type": "scatter3d",
         "x": [
          0,
          0
         ],
         "y": [
          0,
          1.5707963267948966
         ],
         "z": [
          0,
          0
         ]
        },
        {
         "line": {
          "color": "blue",
          "width": 4
         },
         "mode": "lines+text",
         "text": [
          null,
          "c"
         ],
         "type": "scatter3d",
         "x": [
          0,
          0
         ],
         "y": [
          0,
          0
         ],
         "z": [
          0,
          1.5707963267948966
         ]
        },
        {
         "line": {
          "color": "black",
          "width": 1
         },
         "mode": "lines",
         "type": "scatter3d",
         "x": [
          1.5707963267948966,
          1.5707963267948966
         ],
         "y": [
          0,
          1.5707963267948966
         ],
         "z": [
          0,
          0
         ]
        },
        {
         "line": {
          "color": "black",
          "width": 1
         },
         "mode": "lines",
         "type": "scatter3d",
         "x": [
          1.5707963267948966,
          1.5707963267948966
         ],
         "y": [
          0,
          0
         ],
         "z": [
          0,
          1.5707963267948966
         ]
        },
        {
         "line": {
          "color": "black",
          "width": 1
         },
         "mode": "lines",
         "type": "scatter3d",
         "x": [
          0,
          1.5707963267948966
         ],
         "y": [
          1.5707963267948966,
          1.5707963267948966
         ],
         "z": [
          0,
          0
         ]
        },
        {
         "line": {
          "color": "black",
          "width": 1
         },
         "mode": "lines",
         "type": "scatter3d",
         "x": [
          0,
          0
         ],
         "y": [
          1.5707963267948966,
          1.5707963267948966
         ],
         "z": [
          0,
          1.5707963267948966
         ]
        },
        {
         "line": {
          "color": "black",
          "width": 1
         },
         "mode": "lines",
         "type": "scatter3d",
         "x": [
          0,
          1.5707963267948966
         ],
         "y": [
          0,
          0
         ],
         "z": [
          1.5707963267948966,
          1.5707963267948966
         ]
        },
        {
         "line": {
          "color": "black",
          "width": 1
         },
         "mode": "lines",
         "type": "scatter3d",
         "x": [
          0,
          0
         ],
         "y": [
          0,
          1.5707963267948966
         ],
         "z": [
          1.5707963267948966,
          1.5707963267948966
         ]
        },
        {
         "line": {
          "color": "black",
          "width": 1
         },
         "mode": "lines",
         "type": "scatter3d",
         "x": [
          1.5707963267948966,
          1.5707963267948966
         ],
         "y": [
          1.5707963267948966,
          1.5707963267948966
         ],
         "z": [
          0,
          1.5707963267948966
         ]
        },
        {
         "line": {
          "color": "black",
          "width": 1
         },
         "mode": "lines",
         "type": "scatter3d",
         "x": [
          0,
          1.5707963267948966
         ],
         "y": [
          1.5707963267948966,
          1.5707963267948966
         ],
         "z": [
          1.5707963267948966,
          1.5707963267948966
         ]
        },
        {
         "line": {
          "color": "black",
          "width": 1
         },
         "mode": "lines",
         "type": "scatter3d",
         "x": [
          1.5707963267948966,
          1.5707963267948966
         ],
         "y": [
          0,
          1.5707963267948966
         ],
         "z": [
          1.5707963267948966,
          1.5707963267948966
         ]
        },
        {
         "line": {
          "color": "red",
          "width": 4
         },
         "mode": "lines+text",
         "text": [
          null,
          "a"
         ],
         "type": "scatter3d",
         "x": [
          0,
          1.5707963267948966
         ],
         "y": [
          0,
          -1.5707963267948966
         ],
         "z": [
          0,
          0
         ]
        },
        {
         "line": {
          "color": "green",
          "width": 4
         },
         "mode": "lines+text",
         "text": [
          null,
          "b"
         ],
         "type": "scatter3d",
         "x": [
          0,
          1.5707963267948966
         ],
         "y": [
          0,
          1.5707963267948966
         ],
         "z": [
          0,
          0
         ]
        },
        {
         "line": {
          "color": "blue",
          "width": 4
         },
         "mode": "lines+text",
         "text": [
          null,
          "c"
         ],
         "type": "scatter3d",
         "x": [
          0,
          0
         ],
         "y": [
          0,
          0
         ],
         "z": [
          0,
          1.5707963267948966
         ]
        },
        {
         "line": {
          "color": "black",
          "width": 1
         },
         "mode": "lines",
         "type": "scatter3d",
         "x": [
          1.5707963267948966,
          3.141592653589793
         ],
         "y": [
          -1.5707963267948966,
          0
         ],
         "z": [
          0,
          0
         ]
        },
        {
         "line": {
          "color": "black",
          "width": 1
         },
         "mode": "lines",
         "type": "scatter3d",
         "x": [
          1.5707963267948966,
          1.5707963267948966
         ],
         "y": [
          -1.5707963267948966,
          -1.5707963267948966
         ],
         "z": [
          0,
          1.5707963267948966
         ]
        },
        {
         "line": {
          "color": "black",
          "width": 1
         },
         "mode": "lines",
         "type": "scatter3d",
         "x": [
          1.5707963267948966,
          3.141592653589793
         ],
         "y": [
          1.5707963267948966,
          0
         ],
         "z": [
          0,
          0
         ]
        },
        {
         "line": {
          "color": "black",
          "width": 1
         },
         "mode": "lines",
         "type": "scatter3d",
         "x": [
          1.5707963267948966,
          1.5707963267948966
         ],
         "y": [
          1.5707963267948966,
          1.5707963267948966
         ],
         "z": [
          0,
          1.5707963267948966
         ]
        },
        {
         "line": {
          "color": "black",
          "width": 1
         },
         "mode": "lines",
         "type": "scatter3d",
         "x": [
          0,
          1.5707963267948966
         ],
         "y": [
          0,
          -1.5707963267948966
         ],
         "z": [
          1.5707963267948966,
          1.5707963267948966
         ]
        },
        {
         "line": {
          "color": "black",
          "width": 1
         },
         "mode": "lines",
         "type": "scatter3d",
         "x": [
          0,
          1.5707963267948966
         ],
         "y": [
          0,
          1.5707963267948966
         ],
         "z": [
          1.5707963267948966,
          1.5707963267948966
         ]
        },
        {
         "line": {
          "color": "black",
          "width": 1
         },
         "mode": "lines",
         "type": "scatter3d",
         "x": [
          3.141592653589793,
          3.141592653589793
         ],
         "y": [
          0,
          0
         ],
         "z": [
          0,
          1.5707963267948966
         ]
        },
        {
         "line": {
          "color": "black",
          "width": 1
         },
         "mode": "lines",
         "type": "scatter3d",
         "x": [
          1.5707963267948966,
          3.141592653589793
         ],
         "y": [
          1.5707963267948966,
          0
         ],
         "z": [
          1.5707963267948966,
          1.5707963267948966
         ]
        },
        {
         "line": {
          "color": "black",
          "width": 1
         },
         "mode": "lines",
         "type": "scatter3d",
         "x": [
          1.5707963267948966,
          3.141592653589793
         ],
         "y": [
          -1.5707963267948966,
          0
         ],
         "z": [
          1.5707963267948966,
          1.5707963267948966
         ]
        },
        {
         "mode": "markers",
         "type": "scatter3d",
         "x": [
          0,
          0,
          0,
          0,
          0,
          0,
          0,
          0,
          0,
          0,
          0,
          0,
          0,
          0,
          0,
          0,
          0.39269908169872414,
          0.39269908169872414,
          0.39269908169872414,
          0.39269908169872414,
          0.39269908169872414,
          0.39269908169872414,
          0.39269908169872414,
          0.39269908169872414,
          0.39269908169872414,
          0.39269908169872414,
          0.39269908169872414,
          0.39269908169872414,
          0.39269908169872414,
          0.39269908169872414,
          0.39269908169872414,
          0.39269908169872414,
          0.7853981633974483,
          0.7853981633974483,
          0.7853981633974483,
          0.7853981633974483,
          0.7853981633974483,
          0.7853981633974483,
          0.7853981633974483,
          0.7853981633974483,
          0.7853981633974483,
          0.7853981633974483,
          0.7853981633974483,
          0.7853981633974483,
          0.7853981633974483,
          0.7853981633974483,
          0.7853981633974483,
          0.7853981633974483,
          1.1780972450961724,
          1.1780972450961724,
          1.1780972450961724,
          1.1780972450961724,
          1.1780972450961724,
          1.1780972450961724,
          1.1780972450961724,
          1.1780972450961724,
          1.1780972450961724,
          1.1780972450961724,
          1.1780972450961724,
          1.1780972450961724,
          1.1780972450961724,
          1.1780972450961724,
          1.1780972450961724,
          1.1780972450961724
         ],
         "y": [
          0,
          0,
          0,
          0,
          0.39269908169872414,
          0.39269908169872414,
          0.39269908169872414,
          0.39269908169872414,
          0.7853981633974483,
          0.7853981633974483,
          0.7853981633974483,
          0.7853981633974483,
          1.1780972450961724,
          1.1780972450961724,
          1.1780972450961724,
          1.1780972450961724,
          0,
          0,
          0,
          0,
          0.39269908169872414,
          0.39269908169872414,
          0.39269908169872414,
          0.39269908169872414,
          0.7853981633974483,
          0.7853981633974483,
          0.7853981633974483,
          0.7853981633974483,
          1.1780972450961724,
          1.1780972450961724,
          1.1780972450961724,
          1.1780972450961724,
          0,
          0,
          0,
          0,
          0.39269908169872414,
          0.39269908169872414,
          0.39269908169872414,
          0.39269908169872414,
          0.7853981633974483,
          0.7853981633974483,
          0.7853981633974483,
          0.7853981633974483,
          1.1780972450961724,
          1.1780972450961724,
          1.1780972450961724,
          1.1780972450961724,
          0,
          0,
          0,
          0,
          0.39269908169872414,
          0.39269908169872414,
          0.39269908169872414,
          0.39269908169872414,
          0.7853981633974483,
          0.7853981633974483,
          0.7853981633974483,
          0.7853981633974483,
          1.1780972450961724,
          1.1780972450961724,
          1.1780972450961724,
          1.1780972450961724
         ],
         "z": [
          0,
          0.39269908169872414,
          0.7853981633974483,
          1.1780972450961724,
          0,
          0.39269908169872414,
          0.7853981633974483,
          1.1780972450961724,
          0,
          0.39269908169872414,
          0.7853981633974483,
          1.1780972450961724,
          0,
          0.39269908169872414,
          0.7853981633974483,
          1.1780972450961724,
          0,
          0.39269908169872414,
          0.7853981633974483,
          1.1780972450961724,
          0,
          0.39269908169872414,
          0.7853981633974483,
          1.1780972450961724,
          0,
          0.39269908169872414,
          0.7853981633974483,
          1.1780972450961724,
          0,
          0.39269908169872414,
          0.7853981633974483,
          1.1780972450961724,
          0,
          0.39269908169872414,
          0.7853981633974483,
          1.1780972450961724,
          0,
          0.39269908169872414,
          0.7853981633974483,
          1.1780972450961724,
          0,
          0.39269908169872414,
          0.7853981633974483,
          1.1780972450961724,
          0,
          0.39269908169872414,
          0.7853981633974483,
          1.1780972450961724,
          0,
          0.39269908169872414,
          0.7853981633974483,
          1.1780972450961724,
          0,
          0.39269908169872414,
          0.7853981633974483,
          1.1780972450961724,
          0,
          0.39269908169872414,
          0.7853981633974483,
          1.1780972450961724,
          0,
          0.39269908169872414,
          0.7853981633974483,
          1.1780972450961724
         ]
        },
        {
         "mode": "markers",
         "type": "scatter3d",
         "x": [
          0,
          0,
          0,
          0,
          0.39269908169872414,
          0.39269908169872414,
          0.39269908169872414,
          0.39269908169872414,
          0.7853981633974483,
          0.7853981633974483,
          0.7853981633974483,
          0.7853981633974483,
          1.1780972450961724,
          1.1780972450961724,
          1.1780972450961724,
          1.1780972450961724,
          0.39269908169872414,
          0.39269908169872414,
          0.39269908169872414,
          0.39269908169872414,
          0.7853981633974483,
          0.7853981633974483,
          0.7853981633974483,
          0.7853981633974483,
          1.1780972450961724,
          1.1780972450961724,
          1.1780972450961724,
          1.1780972450961724,
          1.5707963267948966,
          1.5707963267948966,
          1.5707963267948966,
          1.5707963267948966,
          0.7853981633974483,
          0.7853981633974483,
          0.7853981633974483,
          0.7853981633974483,
          1.1780972450961724,
          1.1780972450961724,
          1.1780972450961724,
          1.1780972450961724,
          1.5707963267948966,
          1.5707963267948966,
          1.5707963267948966,
          1.5707963267948966,
          1.9634954084936207,
          1.9634954084936207,
          1.9634954084936207,
          1.9634954084936207,
          1.1780972450961724,
          1.1780972450961724,
          1.1780972450961724,
          1.1780972450961724,
          1.5707963267948966,
          1.5707963267948966,
          1.5707963267948966,
          1.5707963267948966,
          1.9634954084936207,
          1.9634954084936207,
          1.9634954084936207,
          1.9634954084936207,
          2.356194490192345,
          2.356194490192345,
          2.356194490192345,
          2.356194490192345
         ],
         "y": [
          0,
          0,
          0,
          0,
          0.39269908169872414,
          0.39269908169872414,
          0.39269908169872414,
          0.39269908169872414,
          0.7853981633974483,
          0.7853981633974483,
          0.7853981633974483,
          0.7853981633974483,
          1.1780972450961724,
          1.1780972450961724,
          1.1780972450961724,
          1.1780972450961724,
          -0.39269908169872414,
          -0.39269908169872414,
          -0.39269908169872414,
          -0.39269908169872414,
          0,
          0,
          0,
          0,
          0.39269908169872414,
          0.39269908169872414,
          0.39269908169872414,
          0.39269908169872414,
          0.7853981633974483,
          0.7853981633974483,
          0.7853981633974483,
          0.7853981633974483,
          -0.7853981633974483,
          -0.7853981633974483,
          -0.7853981633974483,
          -0.7853981633974483,
          -0.39269908169872414,
          -0.39269908169872414,
          -0.39269908169872414,
          -0.39269908169872414,
          0,
          0,
          0,
          0,
          0.39269908169872414,
          0.39269908169872414,
          0.39269908169872414,
          0.39269908169872414,
          -1.1780972450961724,
          -1.1780972450961724,
          -1.1780972450961724,
          -1.1780972450961724,
          -0.7853981633974483,
          -0.7853981633974483,
          -0.7853981633974483,
          -0.7853981633974483,
          -0.39269908169872414,
          -0.39269908169872414,
          -0.39269908169872414,
          -0.39269908169872414,
          0,
          0,
          0,
          0
         ],
         "z": [
          0,
          0.39269908169872414,
          0.7853981633974483,
          1.1780972450961724,
          0,
          0.39269908169872414,
          0.7853981633974483,
          1.1780972450961724,
          0,
          0.39269908169872414,
          0.7853981633974483,
          1.1780972450961724,
          0,
          0.39269908169872414,
          0.7853981633974483,
          1.1780972450961724,
          0,
          0.39269908169872414,
          0.7853981633974483,
          1.1780972450961724,
          0,
          0.39269908169872414,
          0.7853981633974483,
          1.1780972450961724,
          0,
          0.39269908169872414,
          0.7853981633974483,
          1.1780972450961724,
          0,
          0.39269908169872414,
          0.7853981633974483,
          1.1780972450961724,
          0,
          0.39269908169872414,
          0.7853981633974483,
          1.1780972450961724,
          0,
          0.39269908169872414,
          0.7853981633974483,
          1.1780972450961724,
          0,
          0.39269908169872414,
          0.7853981633974483,
          1.1780972450961724,
          0,
          0.39269908169872414,
          0.7853981633974483,
          1.1780972450961724,
          0,
          0.39269908169872414,
          0.7853981633974483,
          1.1780972450961724,
          0,
          0.39269908169872414,
          0.7853981633974483,
          1.1780972450961724,
          0,
          0.39269908169872414,
          0.7853981633974483,
          1.1780972450961724,
          0,
          0.39269908169872414,
          0.7853981633974483,
          1.1780972450961724
         ]
        },
        {
         "mode": "markers",
         "type": "scatter3d",
         "x": [
          0.39269908169872414,
          0.39269908169872414,
          0.39269908169872414,
          0.39269908169872414,
          0.7853981633974483,
          0.7853981633974483,
          0.7853981633974483,
          0.7853981633974483,
          1.1780972450961724,
          1.1780972450961724,
          1.1780972450961724,
          1.1780972450961724,
          1.5707963267948966,
          1.5707963267948966,
          1.5707963267948966,
          1.5707963267948966,
          0.7853981633974483,
          0.7853981633974483,
          0.7853981633974483,
          0.7853981633974483,
          1.1780972450961724,
          1.1780972450961724,
          1.1780972450961724,
          1.1780972450961724,
          1.5707963267948966,
          1.5707963267948966,
          1.5707963267948966,
          1.5707963267948966,
          1.9634954084936207,
          1.9634954084936207,
          1.9634954084936207,
          1.9634954084936207,
          1.1780972450961724,
          1.1780972450961724,
          1.1780972450961724,
          1.1780972450961724,
          1.5707963267948966,
          1.5707963267948966,
          1.5707963267948966,
          1.5707963267948966,
          1.9634954084936207,
          1.9634954084936207,
          1.9634954084936207,
          1.9634954084936207,
          2.356194490192345,
          2.356194490192345,
          2.356194490192345,
          2.356194490192345,
          1.5707963267948966,
          1.5707963267948966,
          1.5707963267948966,
          1.5707963267948966,
          1.9634954084936207,
          1.9634954084936207,
          1.9634954084936207,
          1.9634954084936207,
          2.356194490192345,
          2.356194490192345,
          2.356194490192345,
          2.356194490192345,
          2.748893571891069,
          2.748893571891069,
          2.748893571891069,
          2.748893571891069
         ],
         "y": [
          0,
          0,
          0,
          0,
          0.39269908169872414,
          0.39269908169872414,
          0.39269908169872414,
          0.39269908169872414,
          0.7853981633974483,
          0.7853981633974483,
          0.7853981633974483,
          0.7853981633974483,
          1.1780972450961724,
          1.1780972450961724,
          1.1780972450961724,
          1.1780972450961724,
          -0.39269908169872414,
          -0.39269908169872414,
          -0.39269908169872414,
          -0.39269908169872414,
          0,
          0,
          0,
          0,
          0.39269908169872414,
          0.39269908169872414,
          0.39269908169872414,
          0.39269908169872414,
          0.7853981633974483,
          0.7853981633974483,
          0.7853981633974483,
          0.7853981633974483,
          -0.7853981633974483,
          -0.7853981633974483,
          -0.7853981633974483,
          -0.7853981633974483,
          -0.39269908169872414,
          -0.39269908169872414,
          -0.39269908169872414,
          -0.39269908169872414,
          0,
          0,
          0,
          0,
          0.39269908169872414,
          0.39269908169872414,
          0.39269908169872414,
          0.39269908169872414,
          -1.1780972450961724,
          -1.1780972450961724,
          -1.1780972450961724,
          -1.1780972450961724,
          -0.7853981633974483,
          -0.7853981633974483,
          -0.7853981633974483,
          -0.7853981633974483,
          -0.39269908169872414,
          -0.39269908169872414,
          -0.39269908169872414,
          -0.39269908169872414,
          0,
          0,
          0,
          0
         ],
         "z": [
          0,
          0.39269908169872414,
          0.7853981633974483,
          1.1780972450961724,
          0,
          0.39269908169872414,
          0.7853981633974483,
          1.1780972450961724,
          0,
          0.39269908169872414,
          0.7853981633974483,
          1.1780972450961724,
          0,
          0.39269908169872414,
          0.7853981633974483,
          1.1780972450961724,
          0,
          0.39269908169872414,
          0.7853981633974483,
          1.1780972450961724,
          0,
          0.39269908169872414,
          0.7853981633974483,
          1.1780972450961724,
          0,
          0.39269908169872414,
          0.7853981633974483,
          1.1780972450961724,
          0,
          0.39269908169872414,
          0.7853981633974483,
          1.1780972450961724,
          0,
          0.39269908169872414,
          0.7853981633974483,
          1.1780972450961724,
          0,
          0.39269908169872414,
          0.7853981633974483,
          1.1780972450961724,
          0,
          0.39269908169872414,
          0.7853981633974483,
          1.1780972450961724,
          0,
          0.39269908169872414,
          0.7853981633974483,
          1.1780972450961724,
          0,
          0.39269908169872414,
          0.7853981633974483,
          1.1780972450961724,
          0,
          0.39269908169872414,
          0.7853981633974483,
          1.1780972450961724,
          0,
          0.39269908169872414,
          0.7853981633974483,
          1.1780972450961724,
          0,
          0.39269908169872414,
          0.7853981633974483,
          1.1780972450961724
         ]
        }
       ],
       "layout": {
        "dragmode": "orbit",
        "margin": {
         "b": 0,
         "l": 0,
         "r": 0,
         "t": 0
        },
        "scene": {
         "aspectmode": "data",
         "camera": {
          "projection": {
           "type": "orthographic"
          }
         },
         "xaxis": {
          "showbackground": false,
          "showgrid": false,
          "showline": false,
          "showspikes": false,
          "showticklabels": false,
          "ticks": "",
          "title": {
           "text": ""
          },
          "zeroline": false
         },
         "yaxis": {
          "showbackground": false,
          "showgrid": false,
          "showline": false,
          "showspikes": false,
          "showticklabels": false,
          "ticks": "",
          "title": {
           "text": ""
          },
          "zeroline": false
         },
         "zaxis": {
          "showbackground": false,
          "showgrid": false,
          "showline": false,
          "showspikes": false,
          "showticklabels": false,
          "ticks": "",
          "title": {
           "text": ""
          },
          "zeroline": false
         }
        },
        "showlegend": false,
        "template": {
         "data": {
          "bar": [
           {
            "error_x": {
             "color": "#2a3f5f"
            },
            "error_y": {
             "color": "#2a3f5f"
            },
            "marker": {
             "line": {
              "color": "white",
              "width": 0.5
             }
            },
            "type": "bar"
           }
          ],
          "barpolar": [
           {
            "marker": {
             "line": {
              "color": "white",
              "width": 0.5
             }
            },
            "type": "barpolar"
           }
          ],
          "carpet": [
           {
            "aaxis": {
             "endlinecolor": "#2a3f5f",
             "gridcolor": "#C8D4E3",
             "linecolor": "#C8D4E3",
             "minorgridcolor": "#C8D4E3",
             "startlinecolor": "#2a3f5f"
            },
            "baxis": {
             "endlinecolor": "#2a3f5f",
             "gridcolor": "#C8D4E3",
             "linecolor": "#C8D4E3",
             "minorgridcolor": "#C8D4E3",
             "startlinecolor": "#2a3f5f"
            },
            "type": "carpet"
           }
          ],
          "choropleth": [
           {
            "colorbar": {
             "outlinewidth": 0,
             "ticks": ""
            },
            "type": "choropleth"
           }
          ],
          "contour": [
           {
            "colorbar": {
             "outlinewidth": 0,
             "ticks": ""
            },
            "colorscale": [
             [
              0,
              "#0d0887"
             ],
             [
              0.1111111111111111,
              "#46039f"
             ],
             [
              0.2222222222222222,
              "#7201a8"
             ],
             [
              0.3333333333333333,
              "#9c179e"
             ],
             [
              0.4444444444444444,
              "#bd3786"
             ],
             [
              0.5555555555555556,
              "#d8576b"
             ],
             [
              0.6666666666666666,
              "#ed7953"
             ],
             [
              0.7777777777777778,
              "#fb9f3a"
             ],
             [
              0.8888888888888888,
              "#fdca26"
             ],
             [
              1,
              "#f0f921"
             ]
            ],
            "type": "contour"
           }
          ],
          "contourcarpet": [
           {
            "colorbar": {
             "outlinewidth": 0,
             "ticks": ""
            },
            "type": "contourcarpet"
           }
          ],
          "heatmap": [
           {
            "colorbar": {
             "outlinewidth": 0,
             "ticks": ""
            },
            "colorscale": [
             [
              0,
              "#0d0887"
             ],
             [
              0.1111111111111111,
              "#46039f"
             ],
             [
              0.2222222222222222,
              "#7201a8"
             ],
             [
              0.3333333333333333,
              "#9c179e"
             ],
             [
              0.4444444444444444,
              "#bd3786"
             ],
             [
              0.5555555555555556,
              "#d8576b"
             ],
             [
              0.6666666666666666,
              "#ed7953"
             ],
             [
              0.7777777777777778,
              "#fb9f3a"
             ],
             [
              0.8888888888888888,
              "#fdca26"
             ],
             [
              1,
              "#f0f921"
             ]
            ],
            "type": "heatmap"
           }
          ],
          "heatmapgl": [
           {
            "colorbar": {
             "outlinewidth": 0,
             "ticks": ""
            },
            "colorscale": [
             [
              0,
              "#0d0887"
             ],
             [
              0.1111111111111111,
              "#46039f"
             ],
             [
              0.2222222222222222,
              "#7201a8"
             ],
             [
              0.3333333333333333,
              "#9c179e"
             ],
             [
              0.4444444444444444,
              "#bd3786"
             ],
             [
              0.5555555555555556,
              "#d8576b"
             ],
             [
              0.6666666666666666,
              "#ed7953"
             ],
             [
              0.7777777777777778,
              "#fb9f3a"
             ],
             [
              0.8888888888888888,
              "#fdca26"
             ],
             [
              1,
              "#f0f921"
             ]
            ],
            "type": "heatmapgl"
           }
          ],
          "histogram": [
           {
            "marker": {
             "colorbar": {
              "outlinewidth": 0,
              "ticks": ""
             }
            },
            "type": "histogram"
           }
          ],
          "histogram2d": [
           {
            "colorbar": {
             "outlinewidth": 0,
             "ticks": ""
            },
            "colorscale": [
             [
              0,
              "#0d0887"
             ],
             [
              0.1111111111111111,
              "#46039f"
             ],
             [
              0.2222222222222222,
              "#7201a8"
             ],
             [
              0.3333333333333333,
              "#9c179e"
             ],
             [
              0.4444444444444444,
              "#bd3786"
             ],
             [
              0.5555555555555556,
              "#d8576b"
             ],
             [
              0.6666666666666666,
              "#ed7953"
             ],
             [
              0.7777777777777778,
              "#fb9f3a"
             ],
             [
              0.8888888888888888,
              "#fdca26"
             ],
             [
              1,
              "#f0f921"
             ]
            ],
            "type": "histogram2d"
           }
          ],
          "histogram2dcontour": [
           {
            "colorbar": {
             "outlinewidth": 0,
             "ticks": ""
            },
            "colorscale": [
             [
              0,
              "#0d0887"
             ],
             [
              0.1111111111111111,
              "#46039f"
             ],
             [
              0.2222222222222222,
              "#7201a8"
             ],
             [
              0.3333333333333333,
              "#9c179e"
             ],
             [
              0.4444444444444444,
              "#bd3786"
             ],
             [
              0.5555555555555556,
              "#d8576b"
             ],
             [
              0.6666666666666666,
              "#ed7953"
             ],
             [
              0.7777777777777778,
              "#fb9f3a"
             ],
             [
              0.8888888888888888,
              "#fdca26"
             ],
             [
              1,
              "#f0f921"
             ]
            ],
            "type": "histogram2dcontour"
           }
          ],
          "mesh3d": [
           {
            "colorbar": {
             "outlinewidth": 0,
             "ticks": ""
            },
            "type": "mesh3d"
           }
          ],
          "parcoords": [
           {
            "line": {
             "colorbar": {
              "outlinewidth": 0,
              "ticks": ""
             }
            },
            "type": "parcoords"
           }
          ],
          "pie": [
           {
            "automargin": true,
            "type": "pie"
           }
          ],
          "scatter": [
           {
            "marker": {
             "colorbar": {
              "outlinewidth": 0,
              "ticks": ""
             }
            },
            "type": "scatter"
           }
          ],
          "scatter3d": [
           {
            "line": {
             "colorbar": {
              "outlinewidth": 0,
              "ticks": ""
             }
            },
            "marker": {
             "colorbar": {
              "outlinewidth": 0,
              "ticks": ""
             }
            },
            "type": "scatter3d"
           }
          ],
          "scattercarpet": [
           {
            "marker": {
             "colorbar": {
              "outlinewidth": 0,
              "ticks": ""
             }
            },
            "type": "scattercarpet"
           }
          ],
          "scattergeo": [
           {
            "marker": {
             "colorbar": {
              "outlinewidth": 0,
              "ticks": ""
             }
            },
            "type": "scattergeo"
           }
          ],
          "scattergl": [
           {
            "marker": {
             "colorbar": {
              "outlinewidth": 0,
              "ticks": ""
             }
            },
            "type": "scattergl"
           }
          ],
          "scattermapbox": [
           {
            "marker": {
             "colorbar": {
              "outlinewidth": 0,
              "ticks": ""
             }
            },
            "type": "scattermapbox"
           }
          ],
          "scatterpolar": [
           {
            "marker": {
             "colorbar": {
              "outlinewidth": 0,
              "ticks": ""
             }
            },
            "type": "scatterpolar"
           }
          ],
          "scatterpolargl": [
           {
            "marker": {
             "colorbar": {
              "outlinewidth": 0,
              "ticks": ""
             }
            },
            "type": "scatterpolargl"
           }
          ],
          "scatterternary": [
           {
            "marker": {
             "colorbar": {
              "outlinewidth": 0,
              "ticks": ""
             }
            },
            "type": "scatterternary"
           }
          ],
          "surface": [
           {
            "colorbar": {
             "outlinewidth": 0,
             "ticks": ""
            },
            "colorscale": [
             [
              0,
              "#0d0887"
             ],
             [
              0.1111111111111111,
              "#46039f"
             ],
             [
              0.2222222222222222,
              "#7201a8"
             ],
             [
              0.3333333333333333,
              "#9c179e"
             ],
             [
              0.4444444444444444,
              "#bd3786"
             ],
             [
              0.5555555555555556,
              "#d8576b"
             ],
             [
              0.6666666666666666,
              "#ed7953"
             ],
             [
              0.7777777777777778,
              "#fb9f3a"
             ],
             [
              0.8888888888888888,
              "#fdca26"
             ],
             [
              1,
              "#f0f921"
             ]
            ],
            "type": "surface"
           }
          ],
          "table": [
           {
            "cells": {
             "fill": {
              "color": "#EBF0F8"
             },
             "line": {
              "color": "white"
             }
            },
            "header": {
             "fill": {
              "color": "#C8D4E3"
             },
             "line": {
              "color": "white"
             }
            },
            "type": "table"
           }
          ]
         },
         "layout": {
          "annotationdefaults": {
           "arrowcolor": "#2a3f5f",
           "arrowhead": 0,
           "arrowwidth": 1
          },
          "coloraxis": {
           "colorbar": {
            "outlinewidth": 0,
            "ticks": ""
           }
          },
          "colorscale": {
           "diverging": [
            [
             0,
             "#8e0152"
            ],
            [
             0.1,
             "#c51b7d"
            ],
            [
             0.2,
             "#de77ae"
            ],
            [
             0.3,
             "#f1b6da"
            ],
            [
             0.4,
             "#fde0ef"
            ],
            [
             0.5,
             "#f7f7f7"
            ],
            [
             0.6,
             "#e6f5d0"
            ],
            [
             0.7,
             "#b8e186"
            ],
            [
             0.8,
             "#7fbc41"
            ],
            [
             0.9,
             "#4d9221"
            ],
            [
             1,
             "#276419"
            ]
           ],
           "sequential": [
            [
             0,
             "#0d0887"
            ],
            [
             0.1111111111111111,
             "#46039f"
            ],
            [
             0.2222222222222222,
             "#7201a8"
            ],
            [
             0.3333333333333333,
             "#9c179e"
            ],
            [
             0.4444444444444444,
             "#bd3786"
            ],
            [
             0.5555555555555556,
             "#d8576b"
            ],
            [
             0.6666666666666666,
             "#ed7953"
            ],
            [
             0.7777777777777778,
             "#fb9f3a"
            ],
            [
             0.8888888888888888,
             "#fdca26"
            ],
            [
             1,
             "#f0f921"
            ]
           ],
           "sequentialminus": [
            [
             0,
             "#0d0887"
            ],
            [
             0.1111111111111111,
             "#46039f"
            ],
            [
             0.2222222222222222,
             "#7201a8"
            ],
            [
             0.3333333333333333,
             "#9c179e"
            ],
            [
             0.4444444444444444,
             "#bd3786"
            ],
            [
             0.5555555555555556,
             "#d8576b"
            ],
            [
             0.6666666666666666,
             "#ed7953"
            ],
            [
             0.7777777777777778,
             "#fb9f3a"
            ],
            [
             0.8888888888888888,
             "#fdca26"
            ],
            [
             1,
             "#f0f921"
            ]
           ]
          },
          "colorway": [
           "#636efa",
           "#EF553B",
           "#00cc96",
           "#ab63fa",
           "#FFA15A",
           "#19d3f3",
           "#FF6692",
           "#B6E880",
           "#FF97FF",
           "#FECB52"
          ],
          "font": {
           "color": "#2a3f5f"
          },
          "geo": {
           "bgcolor": "white",
           "lakecolor": "white",
           "landcolor": "white",
           "showlakes": true,
           "showland": true,
           "subunitcolor": "#C8D4E3"
          },
          "hoverlabel": {
           "align": "left"
          },
          "hovermode": "closest",
          "mapbox": {
           "style": "light"
          },
          "paper_bgcolor": "white",
          "plot_bgcolor": "white",
          "polar": {
           "angularaxis": {
            "gridcolor": "#EBF0F8",
            "linecolor": "#EBF0F8",
            "ticks": ""
           },
           "bgcolor": "white",
           "radialaxis": {
            "gridcolor": "#EBF0F8",
            "linecolor": "#EBF0F8",
            "ticks": ""
           }
          },
          "scene": {
           "xaxis": {
            "backgroundcolor": "white",
            "gridcolor": "#DFE8F3",
            "gridwidth": 2,
            "linecolor": "#EBF0F8",
            "showbackground": true,
            "ticks": "",
            "zerolinecolor": "#EBF0F8"
           },
           "yaxis": {
            "backgroundcolor": "white",
            "gridcolor": "#DFE8F3",
            "gridwidth": 2,
            "linecolor": "#EBF0F8",
            "showbackground": true,
            "ticks": "",
            "zerolinecolor": "#EBF0F8"
           },
           "zaxis": {
            "backgroundcolor": "white",
            "gridcolor": "#DFE8F3",
            "gridwidth": 2,
            "linecolor": "#EBF0F8",
            "showbackground": true,
            "ticks": "",
            "zerolinecolor": "#EBF0F8"
           }
          },
          "shapedefaults": {
           "line": {
            "color": "#2a3f5f"
           }
          },
          "ternary": {
           "aaxis": {
            "gridcolor": "#DFE8F3",
            "linecolor": "#A2B1C6",
            "ticks": ""
           },
           "baxis": {
            "gridcolor": "#DFE8F3",
            "linecolor": "#A2B1C6",
            "ticks": ""
           },
           "bgcolor": "white",
           "caxis": {
            "gridcolor": "#DFE8F3",
            "linecolor": "#A2B1C6",
            "ticks": ""
           }
          },
          "title": {
           "x": 0.05
          },
          "xaxis": {
           "automargin": true,
           "gridcolor": "#EBF0F8",
           "linecolor": "#EBF0F8",
           "ticks": "",
           "title": {
            "standoff": 15
           },
           "zerolinecolor": "#EBF0F8",
           "zerolinewidth": 2
          },
          "yaxis": {
           "automargin": true,
           "gridcolor": "#EBF0F8",
           "linecolor": "#EBF0F8",
           "ticks": "",
           "title": {
            "standoff": 15
           },
           "zerolinecolor": "#EBF0F8",
           "zerolinewidth": 2
          }
         }
        }
       }
      }
     },
     "metadata": {}
    }
   ],
   "source": [
    "# atom-centered k-point grid\n",
    "\n",
    "fig = Figure()\n",
    "fig.add_unitcell(struct_conv.lattice.reciprocal_lattice)\n",
    "fig.add_unitcell(struct_reduced.lattice.reciprocal_lattice)\n",
    "\n",
    "grid = struct_conv.lattice.reciprocal_lattice.get_cartesian_coords(build_grid(4))\n",
    "x,y,z = grid.T\n",
    "trace = go.Scatter3d(x=x,y=y,z=z, mode='markers')\n",
    "fig.fig.add_trace(trace)\n",
    "\n",
    "\n",
    "\n",
    "grid = struct_reduced.lattice.reciprocal_lattice.get_cartesian_coords(build_grid(4, shift=[0., 0., 0.]))\n",
    "x,y,z = grid.T\n",
    "trace = go.Scatter3d(x=x,y=y,z=z, mode='markers')\n",
    "fig.fig.add_trace(trace)\n",
    "\n",
    "grid = struct_reduced.lattice.reciprocal_lattice.get_cartesian_coords(build_grid(4, shift=[.5, .5, 0.]))\n",
    "x,y,z = grid.T\n",
    "trace = go.Scatter3d(x=x,y=y,z=z, mode='markers')\n",
    "fig.fig.add_trace(trace)\n",
    "\n",
    "fig.fig.update_scenes(camera_projection_type=\"orthographic\")\n",
    "\n",
    "fig.show()"
   ]
  },
  {
   "cell_type": "code",
   "execution_count": null,
   "metadata": {},
   "outputs": [],
   "source": []
  },
  {
   "cell_type": "code",
   "execution_count": 21,
   "metadata": {},
   "outputs": [
    {
     "output_type": "display_data",
     "data": {
      "application/vnd.plotly.v1+json": {
       "config": {
        "plotlyServerURL": "https://plot.ly"
       },
       "data": [
        {
         "line": {
          "color": "red",
          "width": 4
         },
         "mode": "lines+text",
         "text": [
          null,
          "a"
         ],
         "type": "scatter3d",
         "x": [
          0,
          1.5707963267948966
         ],
         "y": [
          0,
          1.5707963267948966
         ],
         "z": [
          0,
          -1.5707963267948966
         ]
        },
        {
         "line": {
          "color": "green",
          "width": 4
         },
         "mode": "lines+text",
         "text": [
          null,
          "b"
         ],
         "type": "scatter3d",
         "x": [
          0,
          -1.5707963267948966
         ],
         "y": [
          0,
          1.5707963267948966
         ],
         "z": [
          0,
          1.5707963267948966
         ]
        },
        {
         "line": {
          "color": "blue",
          "width": 4
         },
         "mode": "lines+text",
         "text": [
          null,
          "c"
         ],
         "type": "scatter3d",
         "x": [
          0,
          1.5707963267948966
         ],
         "y": [
          0,
          -1.5707963267948966
         ],
         "z": [
          0,
          1.5707963267948966
         ]
        },
        {
         "line": {
          "color": "black",
          "width": 1
         },
         "mode": "lines",
         "type": "scatter3d",
         "x": [
          1.5707963267948966,
          0
         ],
         "y": [
          1.5707963267948966,
          3.141592653589793
         ],
         "z": [
          -1.5707963267948966,
          0
         ]
        },
        {
         "line": {
          "color": "black",
          "width": 1
         },
         "mode": "lines",
         "type": "scatter3d",
         "x": [
          1.5707963267948966,
          3.141592653589793
         ],
         "y": [
          1.5707963267948966,
          0
         ],
         "z": [
          -1.5707963267948966,
          0
         ]
        },
        {
         "line": {
          "color": "black",
          "width": 1
         },
         "mode": "lines",
         "type": "scatter3d",
         "x": [
          -1.5707963267948966,
          0
         ],
         "y": [
          1.5707963267948966,
          3.141592653589793
         ],
         "z": [
          1.5707963267948966,
          0
         ]
        },
        {
         "line": {
          "color": "black",
          "width": 1
         },
         "mode": "lines",
         "type": "scatter3d",
         "x": [
          -1.5707963267948966,
          0
         ],
         "y": [
          1.5707963267948966,
          0
         ],
         "z": [
          1.5707963267948966,
          3.141592653589793
         ]
        },
        {
         "line": {
          "color": "black",
          "width": 1
         },
         "mode": "lines",
         "type": "scatter3d",
         "x": [
          1.5707963267948966,
          3.141592653589793
         ],
         "y": [
          -1.5707963267948966,
          0
         ],
         "z": [
          1.5707963267948966,
          0
         ]
        },
        {
         "line": {
          "color": "black",
          "width": 1
         },
         "mode": "lines",
         "type": "scatter3d",
         "x": [
          1.5707963267948966,
          0
         ],
         "y": [
          -1.5707963267948966,
          0
         ],
         "z": [
          1.5707963267948966,
          3.141592653589793
         ]
        },
        {
         "line": {
          "color": "black",
          "width": 1
         },
         "mode": "lines",
         "type": "scatter3d",
         "x": [
          0,
          1.5707963267948966
         ],
         "y": [
          3.141592653589793,
          1.5707963267948966
         ],
         "z": [
          0,
          1.5707963267948966
         ]
        },
        {
         "line": {
          "color": "black",
          "width": 1
         },
         "mode": "lines",
         "type": "scatter3d",
         "x": [
          0,
          1.5707963267948966
         ],
         "y": [
          0,
          1.5707963267948966
         ],
         "z": [
          3.141592653589793,
          1.5707963267948966
         ]
        },
        {
         "line": {
          "color": "black",
          "width": 1
         },
         "mode": "lines",
         "type": "scatter3d",
         "x": [
          3.141592653589793,
          1.5707963267948966
         ],
         "y": [
          0,
          1.5707963267948966
         ],
         "z": [
          0,
          1.5707963267948966
         ]
        },
        {
         "line": {
          "color": "red",
          "width": 4
         },
         "mode": "lines+text",
         "text": [
          null,
          "a"
         ],
         "type": "scatter3d",
         "x": [
          0,
          1.5707963267948966
         ],
         "y": [
          0,
          -1.5707963267948966
         ],
         "z": [
          0,
          0
         ]
        },
        {
         "line": {
          "color": "green",
          "width": 4
         },
         "mode": "lines+text",
         "text": [
          null,
          "b"
         ],
         "type": "scatter3d",
         "x": [
          0,
          1.5707963267948966
         ],
         "y": [
          0,
          1.5707963267948966
         ],
         "z": [
          0,
          0
         ]
        },
        {
         "line": {
          "color": "blue",
          "width": 4
         },
         "mode": "lines+text",
         "text": [
          null,
          "c"
         ],
         "type": "scatter3d",
         "x": [
          0,
          0
         ],
         "y": [
          0,
          0
         ],
         "z": [
          0,
          1.5707963267948966
         ]
        },
        {
         "line": {
          "color": "black",
          "width": 1
         },
         "mode": "lines",
         "type": "scatter3d",
         "x": [
          1.5707963267948966,
          3.141592653589793
         ],
         "y": [
          -1.5707963267948966,
          0
         ],
         "z": [
          0,
          0
         ]
        },
        {
         "line": {
          "color": "black",
          "width": 1
         },
         "mode": "lines",
         "type": "scatter3d",
         "x": [
          1.5707963267948966,
          1.5707963267948966
         ],
         "y": [
          -1.5707963267948966,
          -1.5707963267948966
         ],
         "z": [
          0,
          1.5707963267948966
         ]
        },
        {
         "line": {
          "color": "black",
          "width": 1
         },
         "mode": "lines",
         "type": "scatter3d",
         "x": [
          1.5707963267948966,
          3.141592653589793
         ],
         "y": [
          1.5707963267948966,
          0
         ],
         "z": [
          0,
          0
         ]
        },
        {
         "line": {
          "color": "black",
          "width": 1
         },
         "mode": "lines",
         "type": "scatter3d",
         "x": [
          1.5707963267948966,
          1.5707963267948966
         ],
         "y": [
          1.5707963267948966,
          1.5707963267948966
         ],
         "z": [
          0,
          1.5707963267948966
         ]
        },
        {
         "line": {
          "color": "black",
          "width": 1
         },
         "mode": "lines",
         "type": "scatter3d",
         "x": [
          0,
          1.5707963267948966
         ],
         "y": [
          0,
          -1.5707963267948966
         ],
         "z": [
          1.5707963267948966,
          1.5707963267948966
         ]
        },
        {
         "line": {
          "color": "black",
          "width": 1
         },
         "mode": "lines",
         "type": "scatter3d",
         "x": [
          0,
          1.5707963267948966
         ],
         "y": [
          0,
          1.5707963267948966
         ],
         "z": [
          1.5707963267948966,
          1.5707963267948966
         ]
        },
        {
         "line": {
          "color": "black",
          "width": 1
         },
         "mode": "lines",
         "type": "scatter3d",
         "x": [
          3.141592653589793,
          3.141592653589793
         ],
         "y": [
          0,
          0
         ],
         "z": [
          0,
          1.5707963267948966
         ]
        },
        {
         "line": {
          "color": "black",
          "width": 1
         },
         "mode": "lines",
         "type": "scatter3d",
         "x": [
          1.5707963267948966,
          3.141592653589793
         ],
         "y": [
          1.5707963267948966,
          0
         ],
         "z": [
          1.5707963267948966,
          1.5707963267948966
         ]
        },
        {
         "line": {
          "color": "black",
          "width": 1
         },
         "mode": "lines",
         "type": "scatter3d",
         "x": [
          1.5707963267948966,
          3.141592653589793
         ],
         "y": [
          -1.5707963267948966,
          0
         ],
         "z": [
          1.5707963267948966,
          1.5707963267948966
         ]
        },
        {
         "mode": "markers",
         "type": "scatter3d",
         "x": [
          0,
          0.7853981633974483,
          -0.7853981633974483,
          0,
          0.7853981633974483,
          1.5707963267948966,
          0,
          0.7853981633974483
         ],
         "y": [
          0,
          -0.7853981633974483,
          0.7853981633974483,
          0,
          0.7853981633974483,
          0,
          1.5707963267948966,
          0.7853981633974483
         ],
         "z": [
          0,
          0.7853981633974483,
          0.7853981633974483,
          1.5707963267948966,
          -0.7853981633974483,
          0,
          0,
          0.7853981633974483
         ]
        },
        {
         "mode": "markers",
         "type": "scatter3d",
         "x": [
          0,
          0.7853981633974483,
          -0.7853981633974483,
          0,
          0.7853981633974483,
          1.5707963267948966,
          0,
          0.7853981633974483
         ],
         "y": [
          0.7853981633974483,
          0,
          1.5707963267948966,
          0.7853981633974483,
          1.5707963267948966,
          0.7853981633974483,
          2.356194490192345,
          1.5707963267948966
         ],
         "z": [
          0,
          0.7853981633974483,
          0.7853981633974483,
          1.5707963267948966,
          -0.7853981633974483,
          0,
          0,
          0.7853981633974483
         ]
        },
        {
         "mode": "markers",
         "type": "scatter3d",
         "x": [
          0,
          0.7853981633974483,
          -0.7853981633974483,
          0,
          0.7853981633974483,
          1.5707963267948966,
          0,
          0.7853981633974483
         ],
         "y": [
          0,
          -0.7853981633974483,
          0.7853981633974483,
          0,
          0.7853981633974483,
          0,
          1.5707963267948966,
          0.7853981633974483
         ],
         "z": [
          0.7853981633974483,
          1.5707963267948966,
          1.5707963267948966,
          2.356194490192345,
          0,
          0.7853981633974483,
          0.7853981633974483,
          1.5707963267948966
         ]
        },
        {
         "mode": "markers",
         "type": "scatter3d",
         "x": [
          0.7853981633974483,
          1.5707963267948966,
          0,
          0.7853981633974483,
          1.5707963267948966,
          2.356194490192345,
          0.7853981633974483,
          1.5707963267948966
         ],
         "y": [
          0,
          -0.7853981633974483,
          0.7853981633974483,
          0,
          0.7853981633974483,
          0,
          1.5707963267948966,
          0.7853981633974483
         ],
         "z": [
          0,
          0.7853981633974483,
          0.7853981633974483,
          1.5707963267948966,
          -0.7853981633974483,
          0,
          0,
          0.7853981633974483
         ]
        },
        {
         "marker": {
          "color": "blue",
          "size": 4
         },
         "mode": "markers",
         "type": "scatter3d",
         "x": [
          0,
          0,
          0.7853981633974483,
          0.7853981633974483,
          0.7853981633974483,
          0.7853981633974483,
          1.5707963267948966,
          1.5707963267948966
         ],
         "y": [
          0,
          0,
          0.7853981633974483,
          0.7853981633974483,
          -0.7853981633974483,
          -0.7853981633974483,
          0,
          0
         ],
         "z": [
          0,
          0.7853981633974483,
          0,
          0.7853981633974483,
          0,
          0.7853981633974483,
          0,
          0.7853981633974483
         ]
        },
        {
         "marker": {
          "color": "blue",
          "size": 4
         },
         "mode": "markers",
         "type": "scatter3d",
         "x": [
          0.7853981633974483,
          0.7853981633974483,
          1.5707963267948966,
          1.5707963267948966,
          1.5707963267948966,
          1.5707963267948966,
          2.356194490192345,
          2.356194490192345
         ],
         "y": [
          0,
          0,
          0.7853981633974483,
          0.7853981633974483,
          -0.7853981633974483,
          -0.7853981633974483,
          0,
          0
         ],
         "z": [
          0,
          0.7853981633974483,
          0,
          0.7853981633974483,
          0,
          0.7853981633974483,
          0,
          0.7853981633974483
         ]
        }
       ],
       "layout": {
        "dragmode": "orbit",
        "margin": {
         "b": 0,
         "l": 0,
         "r": 0,
         "t": 0
        },
        "scene": {
         "aspectmode": "data",
         "camera": {
          "projection": {
           "type": "orthographic"
          }
         },
         "xaxis": {
          "showbackground": false,
          "showgrid": false,
          "showline": false,
          "showspikes": false,
          "showticklabels": false,
          "ticks": "",
          "title": {
           "text": ""
          },
          "zeroline": false
         },
         "yaxis": {
          "showbackground": false,
          "showgrid": false,
          "showline": false,
          "showspikes": false,
          "showticklabels": false,
          "ticks": "",
          "title": {
           "text": ""
          },
          "zeroline": false
         },
         "zaxis": {
          "showbackground": false,
          "showgrid": false,
          "showline": false,
          "showspikes": false,
          "showticklabels": false,
          "ticks": "",
          "title": {
           "text": ""
          },
          "zeroline": false
         }
        },
        "showlegend": false,
        "template": {
         "data": {
          "bar": [
           {
            "error_x": {
             "color": "#2a3f5f"
            },
            "error_y": {
             "color": "#2a3f5f"
            },
            "marker": {
             "line": {
              "color": "white",
              "width": 0.5
             }
            },
            "type": "bar"
           }
          ],
          "barpolar": [
           {
            "marker": {
             "line": {
              "color": "white",
              "width": 0.5
             }
            },
            "type": "barpolar"
           }
          ],
          "carpet": [
           {
            "aaxis": {
             "endlinecolor": "#2a3f5f",
             "gridcolor": "#C8D4E3",
             "linecolor": "#C8D4E3",
             "minorgridcolor": "#C8D4E3",
             "startlinecolor": "#2a3f5f"
            },
            "baxis": {
             "endlinecolor": "#2a3f5f",
             "gridcolor": "#C8D4E3",
             "linecolor": "#C8D4E3",
             "minorgridcolor": "#C8D4E3",
             "startlinecolor": "#2a3f5f"
            },
            "type": "carpet"
           }
          ],
          "choropleth": [
           {
            "colorbar": {
             "outlinewidth": 0,
             "ticks": ""
            },
            "type": "choropleth"
           }
          ],
          "contour": [
           {
            "colorbar": {
             "outlinewidth": 0,
             "ticks": ""
            },
            "colorscale": [
             [
              0,
              "#0d0887"
             ],
             [
              0.1111111111111111,
              "#46039f"
             ],
             [
              0.2222222222222222,
              "#7201a8"
             ],
             [
              0.3333333333333333,
              "#9c179e"
             ],
             [
              0.4444444444444444,
              "#bd3786"
             ],
             [
              0.5555555555555556,
              "#d8576b"
             ],
             [
              0.6666666666666666,
              "#ed7953"
             ],
             [
              0.7777777777777778,
              "#fb9f3a"
             ],
             [
              0.8888888888888888,
              "#fdca26"
             ],
             [
              1,
              "#f0f921"
             ]
            ],
            "type": "contour"
           }
          ],
          "contourcarpet": [
           {
            "colorbar": {
             "outlinewidth": 0,
             "ticks": ""
            },
            "type": "contourcarpet"
           }
          ],
          "heatmap": [
           {
            "colorbar": {
             "outlinewidth": 0,
             "ticks": ""
            },
            "colorscale": [
             [
              0,
              "#0d0887"
             ],
             [
              0.1111111111111111,
              "#46039f"
             ],
             [
              0.2222222222222222,
              "#7201a8"
             ],
             [
              0.3333333333333333,
              "#9c179e"
             ],
             [
              0.4444444444444444,
              "#bd3786"
             ],
             [
              0.5555555555555556,
              "#d8576b"
             ],
             [
              0.6666666666666666,
              "#ed7953"
             ],
             [
              0.7777777777777778,
              "#fb9f3a"
             ],
             [
              0.8888888888888888,
              "#fdca26"
             ],
             [
              1,
              "#f0f921"
             ]
            ],
            "type": "heatmap"
           }
          ],
          "heatmapgl": [
           {
            "colorbar": {
             "outlinewidth": 0,
             "ticks": ""
            },
            "colorscale": [
             [
              0,
              "#0d0887"
             ],
             [
              0.1111111111111111,
              "#46039f"
             ],
             [
              0.2222222222222222,
              "#7201a8"
             ],
             [
              0.3333333333333333,
              "#9c179e"
             ],
             [
              0.4444444444444444,
              "#bd3786"
             ],
             [
              0.5555555555555556,
              "#d8576b"
             ],
             [
              0.6666666666666666,
              "#ed7953"
             ],
             [
              0.7777777777777778,
              "#fb9f3a"
             ],
             [
              0.8888888888888888,
              "#fdca26"
             ],
             [
              1,
              "#f0f921"
             ]
            ],
            "type": "heatmapgl"
           }
          ],
          "histogram": [
           {
            "marker": {
             "colorbar": {
              "outlinewidth": 0,
              "ticks": ""
             }
            },
            "type": "histogram"
           }
          ],
          "histogram2d": [
           {
            "colorbar": {
             "outlinewidth": 0,
             "ticks": ""
            },
            "colorscale": [
             [
              0,
              "#0d0887"
             ],
             [
              0.1111111111111111,
              "#46039f"
             ],
             [
              0.2222222222222222,
              "#7201a8"
             ],
             [
              0.3333333333333333,
              "#9c179e"
             ],
             [
              0.4444444444444444,
              "#bd3786"
             ],
             [
              0.5555555555555556,
              "#d8576b"
             ],
             [
              0.6666666666666666,
              "#ed7953"
             ],
             [
              0.7777777777777778,
              "#fb9f3a"
             ],
             [
              0.8888888888888888,
              "#fdca26"
             ],
             [
              1,
              "#f0f921"
             ]
            ],
            "type": "histogram2d"
           }
          ],
          "histogram2dcontour": [
           {
            "colorbar": {
             "outlinewidth": 0,
             "ticks": ""
            },
            "colorscale": [
             [
              0,
              "#0d0887"
             ],
             [
              0.1111111111111111,
              "#46039f"
             ],
             [
              0.2222222222222222,
              "#7201a8"
             ],
             [
              0.3333333333333333,
              "#9c179e"
             ],
             [
              0.4444444444444444,
              "#bd3786"
             ],
             [
              0.5555555555555556,
              "#d8576b"
             ],
             [
              0.6666666666666666,
              "#ed7953"
             ],
             [
              0.7777777777777778,
              "#fb9f3a"
             ],
             [
              0.8888888888888888,
              "#fdca26"
             ],
             [
              1,
              "#f0f921"
             ]
            ],
            "type": "histogram2dcontour"
           }
          ],
          "mesh3d": [
           {
            "colorbar": {
             "outlinewidth": 0,
             "ticks": ""
            },
            "type": "mesh3d"
           }
          ],
          "parcoords": [
           {
            "line": {
             "colorbar": {
              "outlinewidth": 0,
              "ticks": ""
             }
            },
            "type": "parcoords"
           }
          ],
          "pie": [
           {
            "automargin": true,
            "type": "pie"
           }
          ],
          "scatter": [
           {
            "marker": {
             "colorbar": {
              "outlinewidth": 0,
              "ticks": ""
             }
            },
            "type": "scatter"
           }
          ],
          "scatter3d": [
           {
            "line": {
             "colorbar": {
              "outlinewidth": 0,
              "ticks": ""
             }
            },
            "marker": {
             "colorbar": {
              "outlinewidth": 0,
              "ticks": ""
             }
            },
            "type": "scatter3d"
           }
          ],
          "scattercarpet": [
           {
            "marker": {
             "colorbar": {
              "outlinewidth": 0,
              "ticks": ""
             }
            },
            "type": "scattercarpet"
           }
          ],
          "scattergeo": [
           {
            "marker": {
             "colorbar": {
              "outlinewidth": 0,
              "ticks": ""
             }
            },
            "type": "scattergeo"
           }
          ],
          "scattergl": [
           {
            "marker": {
             "colorbar": {
              "outlinewidth": 0,
              "ticks": ""
             }
            },
            "type": "scattergl"
           }
          ],
          "scattermapbox": [
           {
            "marker": {
             "colorbar": {
              "outlinewidth": 0,
              "ticks": ""
             }
            },
            "type": "scattermapbox"
           }
          ],
          "scatterpolar": [
           {
            "marker": {
             "colorbar": {
              "outlinewidth": 0,
              "ticks": ""
             }
            },
            "type": "scatterpolar"
           }
          ],
          "scatterpolargl": [
           {
            "marker": {
             "colorbar": {
              "outlinewidth": 0,
              "ticks": ""
             }
            },
            "type": "scatterpolargl"
           }
          ],
          "scatterternary": [
           {
            "marker": {
             "colorbar": {
              "outlinewidth": 0,
              "ticks": ""
             }
            },
            "type": "scatterternary"
           }
          ],
          "surface": [
           {
            "colorbar": {
             "outlinewidth": 0,
             "ticks": ""
            },
            "colorscale": [
             [
              0,
              "#0d0887"
             ],
             [
              0.1111111111111111,
              "#46039f"
             ],
             [
              0.2222222222222222,
              "#7201a8"
             ],
             [
              0.3333333333333333,
              "#9c179e"
             ],
             [
              0.4444444444444444,
              "#bd3786"
             ],
             [
              0.5555555555555556,
              "#d8576b"
             ],
             [
              0.6666666666666666,
              "#ed7953"
             ],
             [
              0.7777777777777778,
              "#fb9f3a"
             ],
             [
              0.8888888888888888,
              "#fdca26"
             ],
             [
              1,
              "#f0f921"
             ]
            ],
            "type": "surface"
           }
          ],
          "table": [
           {
            "cells": {
             "fill": {
              "color": "#EBF0F8"
             },
             "line": {
              "color": "white"
             }
            },
            "header": {
             "fill": {
              "color": "#C8D4E3"
             },
             "line": {
              "color": "white"
             }
            },
            "type": "table"
           }
          ]
         },
         "layout": {
          "annotationdefaults": {
           "arrowcolor": "#2a3f5f",
           "arrowhead": 0,
           "arrowwidth": 1
          },
          "coloraxis": {
           "colorbar": {
            "outlinewidth": 0,
            "ticks": ""
           }
          },
          "colorscale": {
           "diverging": [
            [
             0,
             "#8e0152"
            ],
            [
             0.1,
             "#c51b7d"
            ],
            [
             0.2,
             "#de77ae"
            ],
            [
             0.3,
             "#f1b6da"
            ],
            [
             0.4,
             "#fde0ef"
            ],
            [
             0.5,
             "#f7f7f7"
            ],
            [
             0.6,
             "#e6f5d0"
            ],
            [
             0.7,
             "#b8e186"
            ],
            [
             0.8,
             "#7fbc41"
            ],
            [
             0.9,
             "#4d9221"
            ],
            [
             1,
             "#276419"
            ]
           ],
           "sequential": [
            [
             0,
             "#0d0887"
            ],
            [
             0.1111111111111111,
             "#46039f"
            ],
            [
             0.2222222222222222,
             "#7201a8"
            ],
            [
             0.3333333333333333,
             "#9c179e"
            ],
            [
             0.4444444444444444,
             "#bd3786"
            ],
            [
             0.5555555555555556,
             "#d8576b"
            ],
            [
             0.6666666666666666,
             "#ed7953"
            ],
            [
             0.7777777777777778,
             "#fb9f3a"
            ],
            [
             0.8888888888888888,
             "#fdca26"
            ],
            [
             1,
             "#f0f921"
            ]
           ],
           "sequentialminus": [
            [
             0,
             "#0d0887"
            ],
            [
             0.1111111111111111,
             "#46039f"
            ],
            [
             0.2222222222222222,
             "#7201a8"
            ],
            [
             0.3333333333333333,
             "#9c179e"
            ],
            [
             0.4444444444444444,
             "#bd3786"
            ],
            [
             0.5555555555555556,
             "#d8576b"
            ],
            [
             0.6666666666666666,
             "#ed7953"
            ],
            [
             0.7777777777777778,
             "#fb9f3a"
            ],
            [
             0.8888888888888888,
             "#fdca26"
            ],
            [
             1,
             "#f0f921"
            ]
           ]
          },
          "colorway": [
           "#636efa",
           "#EF553B",
           "#00cc96",
           "#ab63fa",
           "#FFA15A",
           "#19d3f3",
           "#FF6692",
           "#B6E880",
           "#FF97FF",
           "#FECB52"
          ],
          "font": {
           "color": "#2a3f5f"
          },
          "geo": {
           "bgcolor": "white",
           "lakecolor": "white",
           "landcolor": "white",
           "showlakes": true,
           "showland": true,
           "subunitcolor": "#C8D4E3"
          },
          "hoverlabel": {
           "align": "left"
          },
          "hovermode": "closest",
          "mapbox": {
           "style": "light"
          },
          "paper_bgcolor": "white",
          "plot_bgcolor": "white",
          "polar": {
           "angularaxis": {
            "gridcolor": "#EBF0F8",
            "linecolor": "#EBF0F8",
            "ticks": ""
           },
           "bgcolor": "white",
           "radialaxis": {
            "gridcolor": "#EBF0F8",
            "linecolor": "#EBF0F8",
            "ticks": ""
           }
          },
          "scene": {
           "xaxis": {
            "backgroundcolor": "white",
            "gridcolor": "#DFE8F3",
            "gridwidth": 2,
            "linecolor": "#EBF0F8",
            "showbackground": true,
            "ticks": "",
            "zerolinecolor": "#EBF0F8"
           },
           "yaxis": {
            "backgroundcolor": "white",
            "gridcolor": "#DFE8F3",
            "gridwidth": 2,
            "linecolor": "#EBF0F8",
            "showbackground": true,
            "ticks": "",
            "zerolinecolor": "#EBF0F8"
           },
           "zaxis": {
            "backgroundcolor": "white",
            "gridcolor": "#DFE8F3",
            "gridwidth": 2,
            "linecolor": "#EBF0F8",
            "showbackground": true,
            "ticks": "",
            "zerolinecolor": "#EBF0F8"
           }
          },
          "shapedefaults": {
           "line": {
            "color": "#2a3f5f"
           }
          },
          "ternary": {
           "aaxis": {
            "gridcolor": "#DFE8F3",
            "linecolor": "#A2B1C6",
            "ticks": ""
           },
           "baxis": {
            "gridcolor": "#DFE8F3",
            "linecolor": "#A2B1C6",
            "ticks": ""
           },
           "bgcolor": "white",
           "caxis": {
            "gridcolor": "#DFE8F3",
            "linecolor": "#A2B1C6",
            "ticks": ""
           }
          },
          "title": {
           "x": 0.05
          },
          "xaxis": {
           "automargin": true,
           "gridcolor": "#EBF0F8",
           "linecolor": "#EBF0F8",
           "ticks": "",
           "title": {
            "standoff": 15
           },
           "zerolinecolor": "#EBF0F8",
           "zerolinewidth": 2
          },
          "yaxis": {
           "automargin": true,
           "gridcolor": "#EBF0F8",
           "linecolor": "#EBF0F8",
           "ticks": "",
           "title": {
            "standoff": 15
           },
           "zerolinecolor": "#EBF0F8",
           "zerolinewidth": 2
          }
         }
        }
       }
      }
     },
     "metadata": {}
    }
   ],
   "source": [
    "# atom-centered\n",
    "\n",
    "fig = Figure()\n",
    "fig.add_unitcell(struct_prim.lattice.reciprocal_lattice)\n",
    "fig.add_unitcell(struct_reduced.lattice.reciprocal_lattice)\n",
    "\n",
    "n = 2\n",
    "grid = struct_prim.lattice.reciprocal_lattice.get_cartesian_coords(build_grid(n, shift=[.0, .0, .0]))\n",
    "x,y,z = grid.T\n",
    "trace = go.Scatter3d(x=x,y=y,z=z, mode='markers')\n",
    "fig.fig.add_trace(trace)\n",
    "\n",
    "grid = struct_prim.lattice.reciprocal_lattice.get_cartesian_coords(build_grid(n, shift=[.5, .5, 0.]))\n",
    "x,y,z = grid.T\n",
    "trace = go.Scatter3d(x=x,y=y,z=z, mode='markers')\n",
    "fig.fig.add_trace(trace)\n",
    "\n",
    "grid = struct_prim.lattice.reciprocal_lattice.get_cartesian_coords(build_grid(n, shift=[0., .5, .5]))\n",
    "x,y,z = grid.T\n",
    "trace = go.Scatter3d(x=x,y=y,z=z, mode='markers')\n",
    "fig.fig.add_trace(trace)\n",
    "\n",
    "grid = struct_prim.lattice.reciprocal_lattice.get_cartesian_coords(build_grid(n, shift=[.5, 0., .5]))\n",
    "x,y,z = grid.T\n",
    "trace = go.Scatter3d(x=x,y=y,z=z, mode='markers')\n",
    "fig.fig.add_trace(trace)\n",
    "\n",
    "\n",
    "grid = struct_reduced.lattice.reciprocal_lattice.get_cartesian_coords(build_grid(n, shift=[0., 0., 0.]))\n",
    "x,y,z = grid.T\n",
    "trace = go.Scatter3d(x=x,y=y,z=z, mode='markers', marker=dict(size=4,color='blue'))\n",
    "fig.fig.add_trace(trace)\n",
    "\n",
    "grid = struct_reduced.lattice.reciprocal_lattice.get_cartesian_coords(build_grid(n, shift=[.5, .5, 0.]))\n",
    "x,y,z = grid.T\n",
    "trace = go.Scatter3d(x=x,y=y,z=z, mode='markers', marker=dict(size=4,color='blue'))\n",
    "fig.fig.add_trace(trace)\n",
    "\n",
    "fig.fig.update_scenes(camera_projection_type=\"orthographic\")\n",
    "fig.show()"
   ]
  },
  {
   "cell_type": "code",
   "execution_count": null,
   "metadata": {},
   "outputs": [],
   "source": []
  },
  {
   "cell_type": "code",
   "execution_count": null,
   "metadata": {},
   "outputs": [],
   "source": []
  },
  {
   "cell_type": "code",
   "execution_count": null,
   "metadata": {},
   "outputs": [],
   "source": []
  },
  {
   "cell_type": "code",
   "execution_count": null,
   "metadata": {},
   "outputs": [],
   "source": []
  },
  {
   "cell_type": "code",
   "execution_count": 28,
   "metadata": {},
   "outputs": [
    {
     "output_type": "execute_result",
     "data": {
      "text/plain": [
       "Lattice\n",
       "    abc : 1.5707963267948966 1.5707963267948966 1.5707963267948966\n",
       " angles : 90.0 90.0 90.0\n",
       " volume : 3.875784585037477\n",
       "      A : 1.5707963267948966 0.0 0.0\n",
       "      B : 0.0 1.5707963267948966 0.0\n",
       "      C : 0.0 0.0 1.5707963267948966"
      ]
     },
     "metadata": {},
     "execution_count": 28
    }
   ],
   "source": [
    "struct_conv.lattice.reciprocal_lattice"
   ]
  },
  {
   "cell_type": "code",
   "execution_count": 29,
   "metadata": {},
   "outputs": [
    {
     "output_type": "execute_result",
     "data": {
      "text/plain": [
       "Lattice\n",
       "    abc : 2.221441469079183 2.221441469079183 1.5707963267948966\n",
       " angles : 90.0 90.0 90.0\n",
       " volume : 7.751569170074954\n",
       "      A : 1.5707963267948966 -1.5707963267948966 0.0\n",
       "      B : 1.5707963267948966 1.5707963267948966 0.0\n",
       "      C : 0.0 0.0 1.5707963267948966"
      ]
     },
     "metadata": {},
     "execution_count": 29
    }
   ],
   "source": [
    "struct_reduced.lattice.reciprocal_lattice"
   ]
  },
  {
   "cell_type": "code",
   "execution_count": null,
   "metadata": {},
   "outputs": [],
   "source": []
  },
  {
   "cell_type": "code",
   "execution_count": null,
   "metadata": {},
   "outputs": [],
   "source": []
  },
  {
   "cell_type": "code",
   "execution_count": null,
   "metadata": {},
   "outputs": [],
   "source": []
  },
  {
   "cell_type": "code",
   "execution_count": null,
   "metadata": {},
   "outputs": [],
   "source": [
    "fig = Figure()"
   ]
  },
  {
   "cell_type": "code",
   "execution_count": null,
   "metadata": {},
   "outputs": [],
   "source": []
  },
  {
   "cell_type": "code",
   "execution_count": null,
   "metadata": {},
   "outputs": [],
   "source": []
  },
  {
   "cell_type": "code",
   "execution_count": null,
   "metadata": {},
   "outputs": [],
   "source": [
    "facets"
   ]
  },
  {
   "cell_type": "code",
   "execution_count": null,
   "metadata": {},
   "outputs": [],
   "source": [
    "x,y,z"
   ]
  },
  {
   "cell_type": "code",
   "execution_count": null,
   "metadata": {},
   "outputs": [],
   "source": []
  },
  {
   "cell_type": "code",
   "execution_count": null,
   "metadata": {},
   "outputs": [],
   "source": [
    "np.stack(facets[0])[:,0]"
   ]
  },
  {
   "cell_type": "code",
   "execution_count": null,
   "metadata": {},
   "outputs": [],
   "source": []
  },
  {
   "cell_type": "code",
   "execution_count": null,
   "metadata": {},
   "outputs": [],
   "source": [
    "fig.fig.add_traces\n"
   ]
  },
  {
   "cell_type": "code",
   "execution_count": null,
   "metadata": {},
   "outputs": [],
   "source": []
  },
  {
   "cell_type": "code",
   "execution_count": null,
   "metadata": {},
   "outputs": [],
   "source": []
  },
  {
   "cell_type": "code",
   "execution_count": null,
   "metadata": {},
   "outputs": [],
   "source": [
    "struct_reduced.lattice.reciprocal_lattice"
   ]
  },
  {
   "cell_type": "code",
   "execution_count": null,
   "metadata": {},
   "outputs": [],
   "source": [
    "struct_conv.lattice.reciprocal_lattice"
   ]
  },
  {
   "cell_type": "code",
   "execution_count": null,
   "metadata": {},
   "outputs": [],
   "source": []
  },
  {
   "cell_type": "code",
   "execution_count": null,
   "metadata": {},
   "outputs": [],
   "source": []
  },
  {
   "cell_type": "code",
   "execution_count": null,
   "metadata": {},
   "outputs": [],
   "source": []
  },
  {
   "cell_type": "code",
   "execution_count": null,
   "metadata": {},
   "outputs": [],
   "source": []
  }
 ]
}