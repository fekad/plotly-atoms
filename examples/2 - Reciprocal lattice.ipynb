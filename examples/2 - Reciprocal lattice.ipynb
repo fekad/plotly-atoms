{
 "cells": [
  {
   "cell_type": "markdown",
   "metadata": {},
   "source": [
    "# Reciprocal lattice and k-point sampling"
   ]
  },
  {
   "cell_type": "code",
   "execution_count": null,
   "metadata": {},
   "outputs": [],
   "source": [
    "import numpy as np\n",
    "import plotly.graph_objects as go\n",
    "\n",
    "from pymatgen.core import Lattice, Structure\n",
    "from pymatgen_plotly import Figure\n"
   ]
  },
  {
   "cell_type": "code",
   "execution_count": null,
   "metadata": {},
   "outputs": [],
   "source": [
    "def fcc_conv(element: str, a: float):\n",
    "    # lattice=Lattice.cubic(a)\n",
    "    return Structure(\n",
    "        lattice=Lattice([[a, 0, 0], [0, a, 0], [0, 0, a]]),\n",
    "        species=4 * [element],\n",
    "        coords=[[0, 0, 0], [0.5, 0.5, 0], [0.5, 0, 0.5], [0, 0.5, 0.5]],\n",
    "    )\n",
    "\n",
    "def fcc_prim(element: str, a: float):\n",
    "    # a_prim = a * np.sqrt(2) / 2\n",
    "    # lattice=Lattice.rhombohedral(a_prim, 60)\n",
    "    return Structure(\n",
    "        lattice=Lattice([[a/2, a/2, 0], [0, a/2, a/2], [a/2, 0, a/2]]),\n",
    "        species=[element],\n",
    "        coords=[[0, 0, 0]],\n",
    "    )\n",
    "\n",
    "def fcc_reduced(element: str, a: float):\n",
    "    return Structure(\n",
    "        lattice=Lattice([[a/2, -a/2, 0], [a/2, a/2, 0], [0, 0, a]]),\n",
    "        species=2 * [element],\n",
    "        coords=[[0, 0, 0], [.5, .5, .5]]\n",
    "    )\n",
    "\n",
    "def build_grid(n, shift=None):\n",
    "    r = np.linspace(0, 1, n, endpoint=False)\n",
    "    grid = np.array([[x,y,z] for x in r for y in r for z in r])\n",
    "\n",
    "    if shift:\n",
    "        offset = 1/n * np.array(shift)\n",
    "        return grid + offset\n",
    "\n",
    "    return grid\n",
    "\n"
   ]
  },
  {
   "cell_type": "code",
   "execution_count": null,
   "metadata": {},
   "outputs": [],
   "source": [
    "struct_conv = fcc_conv('Al', 4.)\n",
    "struct_prim = fcc_prim('Al', 4.)\n",
    "struct_reduced = fcc_reduced('Al', 4.)"
   ]
  },
  {
   "cell_type": "code",
   "execution_count": null,
   "metadata": {},
   "outputs": [],
   "source": [
    "facets = struct_prim.lattice.get_brillouin_zone()\n",
    "# facets"
   ]
  },
  {
   "cell_type": "code",
   "execution_count": null,
   "metadata": {},
   "outputs": [],
   "source": [
    "# brillouin_zone\n",
    "\n",
    "fig = Figure()\n",
    "fig._add_unitcell(struct_prim.lattice.reciprocal_lattice.matrix)\n",
    "\n",
    "\n",
    "facets = struct_prim.lattice.get_brillouin_zone()\n",
    "traces = []\n",
    "for facet in facets:\n",
    "    x, y, z = np.stack(facet).T\n",
    "    trace = go.Mesh3d(x=x, y=y, z=z, color='lightpink', opacity=0.50)\n",
    "    # trace = go.Mesh3d(x=x, y=y, z=z, dsfasd=2)\n",
    "    traces.append(trace)\n",
    "\n",
    "\n",
    "fig.fig.add_traces(traces)\n",
    "fig.fig.update_scenes(camera_projection_type=\"orthographic\")\n",
    "\n",
    "fig.show()"
   ]
  },
  {
   "cell_type": "code",
   "execution_count": null,
   "metadata": {},
   "outputs": [],
   "source": []
  },
  {
   "cell_type": "code",
   "execution_count": null,
   "metadata": {},
   "outputs": [],
   "source": [
    "# k-point grid\n",
    "\n",
    "fig = Figure()\n",
    "fig._add_unitcell(struct_conv.lattice.reciprocal_lattice.matrix)\n",
    "fig._add_unitcell(struct_reduced.lattice.reciprocal_lattice.matrix)\n",
    "\n",
    "grid = struct_conv.lattice.reciprocal_lattice.get_cartesian_coords(build_grid(4, shift=[0.5, 0.5, 0.5]))\n",
    "x,y,z = grid.T\n",
    "trace = go.Scatter3d(x=x,y=y,z=z, mode='markers')\n",
    "fig.fig.add_trace(trace)\n",
    "\n",
    "\n",
    "\n",
    "grid = struct_reduced.lattice.reciprocal_lattice.get_cartesian_coords(build_grid(4, shift=[0.5, 0.0, 0.5]))\n",
    "x,y,z = grid.T\n",
    "trace = go.Scatter3d(x=x,y=y,z=z, mode='markers')\n",
    "fig.fig.add_trace(trace)\n",
    "\n",
    "grid = struct_reduced.lattice.reciprocal_lattice.get_cartesian_coords(build_grid(4, shift=[0.0, 0.5, 0.5]))\n",
    "x,y,z = grid.T\n",
    "trace = go.Scatter3d(x=x,y=y,z=z, mode='markers')\n",
    "fig.fig.add_trace(trace)\n",
    "\n",
    "fig.fig.update_scenes(camera_projection_type=\"orthographic\")\n",
    "\n",
    "fig.show()"
   ]
  },
  {
   "cell_type": "code",
   "execution_count": null,
   "metadata": {},
   "outputs": [],
   "source": [
    "# atom-centered k-point grid\n",
    "\n",
    "fig = Figure()\n",
    "fig._add_unitcell(struct_conv.lattice.reciprocal_lattice.matrix)\n",
    "fig._add_unitcell(struct_reduced.lattice.reciprocal_lattice.matrix)\n",
    "\n",
    "grid = struct_conv.lattice.reciprocal_lattice.get_cartesian_coords(build_grid(4))\n",
    "x,y,z = grid.T\n",
    "trace = go.Scatter3d(x=x,y=y,z=z, mode='markers')\n",
    "fig.fig.add_trace(trace)\n",
    "\n",
    "\n",
    "\n",
    "grid = struct_reduced.lattice.reciprocal_lattice.get_cartesian_coords(build_grid(4, shift=[0., 0., 0.]))\n",
    "x,y,z = grid.T\n",
    "trace = go.Scatter3d(x=x,y=y,z=z, mode='markers')\n",
    "fig.fig.add_trace(trace)\n",
    "\n",
    "grid = struct_reduced.lattice.reciprocal_lattice.get_cartesian_coords(build_grid(4, shift=[.5, .5, 0.]))\n",
    "x,y,z = grid.T\n",
    "trace = go.Scatter3d(x=x,y=y,z=z, mode='markers')\n",
    "fig.fig.add_trace(trace)\n",
    "\n",
    "fig.fig.update_scenes(camera_projection_type=\"orthographic\")\n",
    "\n",
    "fig.show()"
   ]
  },
  {
   "cell_type": "code",
   "execution_count": null,
   "metadata": {},
   "outputs": [],
   "source": []
  },
  {
   "cell_type": "code",
   "execution_count": null,
   "metadata": {},
   "outputs": [],
   "source": [
    "# atom-centered\n",
    "\n",
    "fig = Figure()\n",
    "fig._add_unitcell(struct_prim.lattice.reciprocal_lattice.matrix)\n",
    "fig._add_unitcell(struct_reduced.lattice.reciprocal_lattice.matrix)\n",
    "\n",
    "n = 2\n",
    "grid = struct_prim.lattice.reciprocal_lattice.get_cartesian_coords(build_grid(n, shift=[.0, .0, .0]))\n",
    "x,y,z = grid.T\n",
    "trace = go.Scatter3d(x=x,y=y,z=z, mode='markers')\n",
    "fig.fig.add_trace(trace)\n",
    "\n",
    "grid = struct_prim.lattice.reciprocal_lattice.get_cartesian_coords(build_grid(n, shift=[.5, .5, 0.]))\n",
    "x,y,z = grid.T\n",
    "trace = go.Scatter3d(x=x,y=y,z=z, mode='markers')\n",
    "fig.fig.add_trace(trace)\n",
    "\n",
    "grid = struct_prim.lattice.reciprocal_lattice.get_cartesian_coords(build_grid(n, shift=[0., .5, .5]))\n",
    "x,y,z = grid.T\n",
    "trace = go.Scatter3d(x=x,y=y,z=z, mode='markers')\n",
    "fig.fig.add_trace(trace)\n",
    "\n",
    "grid = struct_prim.lattice.reciprocal_lattice.get_cartesian_coords(build_grid(n, shift=[.5, 0., .5]))\n",
    "x,y,z = grid.T\n",
    "trace = go.Scatter3d(x=x,y=y,z=z, mode='markers')\n",
    "fig.fig.add_trace(trace)\n",
    "\n",
    "\n",
    "grid = struct_reduced.lattice.reciprocal_lattice.get_cartesian_coords(build_grid(n, shift=[0., 0., 0.]))\n",
    "x,y,z = grid.T\n",
    "trace = go.Scatter3d(x=x,y=y,z=z, mode='markers', marker=dict(size=4,color='blue'))\n",
    "fig.fig.add_trace(trace)\n",
    "\n",
    "grid = struct_reduced.lattice.reciprocal_lattice.get_cartesian_coords(build_grid(n, shift=[.5, .5, 0.]))\n",
    "x,y,z = grid.T\n",
    "trace = go.Scatter3d(x=x,y=y,z=z, mode='markers', marker=dict(size=4,color='blue'))\n",
    "fig.fig.add_trace(trace)\n",
    "\n",
    "fig.fig.update_scenes(camera_projection_type=\"orthographic\")\n",
    "fig.show()"
   ]
  },
  {
   "cell_type": "code",
   "execution_count": null,
   "metadata": {},
   "outputs": [],
   "source": []
  },
  {
   "cell_type": "code",
   "execution_count": null,
   "metadata": {},
   "outputs": [],
   "source": []
  },
  {
   "cell_type": "code",
   "execution_count": null,
   "metadata": {},
   "outputs": [],
   "source": []
  },
  {
   "cell_type": "code",
   "execution_count": null,
   "metadata": {},
   "outputs": [],
   "source": []
  },
  {
   "cell_type": "code",
   "execution_count": null,
   "metadata": {},
   "outputs": [],
   "source": []
  }
 ],
 "metadata": {
  "kernelspec": {
   "display_name": "Python 3",
   "language": "python",
   "name": "python3"
  },
  "language_info": {
   "codemirror_mode": {
    "name": "ipython",
    "version": 3
   },
   "file_extension": ".py",
   "mimetype": "text/x-python",
   "name": "python",
   "nbconvert_exporter": "python",
   "pygments_lexer": "ipython3",
   "version": "3.8.5-final"
  },
  "orig_nbformat": 2
 },
 "nbformat": 4,
 "nbformat_minor": 2
}